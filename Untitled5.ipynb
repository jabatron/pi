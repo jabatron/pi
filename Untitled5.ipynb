{
 "cells": [
  {
   "cell_type": "code",
   "execution_count": 1,
   "metadata": {},
   "outputs": [
    {
     "ename": "ModuleNotFoundError",
     "evalue": "No module named 'pil'",
     "output_type": "error",
     "traceback": [
      "\u001b[1;31m---------------------------------------------------------------------------\u001b[0m",
      "\u001b[1;31mModuleNotFoundError\u001b[0m                       Traceback (most recent call last)",
      "\u001b[1;32m<ipython-input-1-62ec9ebffddf>\u001b[0m in \u001b[0;36m<module>\u001b[1;34m\u001b[0m\n\u001b[1;32m----> 1\u001b[1;33m \u001b[1;32mimport\u001b[0m \u001b[0mpil\u001b[0m\u001b[1;33m\u001b[0m\u001b[1;33m\u001b[0m\u001b[0m\n\u001b[0m",
      "\u001b[1;31mModuleNotFoundError\u001b[0m: No module named 'pil'"
     ]
    }
   ],
   "source": [
    "import pil\n"
   ]
  },
  {
   "cell_type": "code",
   "execution_count": 2,
   "metadata": {},
   "outputs": [
    {
     "ename": "ModuleNotFoundError",
     "evalue": "No module named 'PIL'",
     "output_type": "error",
     "traceback": [
      "\u001b[1;31m---------------------------------------------------------------------------\u001b[0m",
      "\u001b[1;31mModuleNotFoundError\u001b[0m                       Traceback (most recent call last)",
      "\u001b[1;32m<ipython-input-2-70d569469e06>\u001b[0m in \u001b[0;36m<module>\u001b[1;34m\u001b[0m\n\u001b[1;32m----> 1\u001b[1;33m \u001b[1;32mimport\u001b[0m \u001b[0mPIL\u001b[0m\u001b[1;33m\u001b[0m\u001b[1;33m\u001b[0m\u001b[0m\n\u001b[0m",
      "\u001b[1;31mModuleNotFoundError\u001b[0m: No module named 'PIL'"
     ]
    }
   ],
   "source": [
    "import PIL\n"
   ]
  },
  {
   "cell_type": "code",
   "execution_count": 3,
   "metadata": {},
   "outputs": [
    {
     "ename": "ModuleNotFoundError",
     "evalue": "No module named 'art'",
     "output_type": "error",
     "traceback": [
      "\u001b[1;31m---------------------------------------------------------------------------\u001b[0m",
      "\u001b[1;31mModuleNotFoundError\u001b[0m                       Traceback (most recent call last)",
      "\u001b[1;32m<ipython-input-3-5b365fad06e8>\u001b[0m in \u001b[0;36m<module>\u001b[1;34m\u001b[0m\n\u001b[1;32m----> 1\u001b[1;33m \u001b[1;32mimport\u001b[0m \u001b[0mart\u001b[0m\u001b[1;33m\u001b[0m\u001b[1;33m\u001b[0m\u001b[0m\n\u001b[0m",
      "\u001b[1;31mModuleNotFoundError\u001b[0m: No module named 'art'"
     ]
    }
   ],
   "source": [
    "import art"
   ]
  },
  {
   "cell_type": "code",
   "execution_count": 4,
   "metadata": {},
   "outputs": [],
   "source": [
    "import art"
   ]
  },
  {
   "cell_type": "code",
   "execution_count": 9,
   "metadata": {},
   "outputs": [],
   "source": [
    "art1=art.art(\"coffe\", number=2)"
   ]
  },
  {
   "cell_type": "code",
   "execution_count": 10,
   "metadata": {},
   "outputs": [
    {
     "data": {
      "text/plain": [
       "'c[_] c[_] '"
      ]
     },
     "execution_count": 10,
     "metadata": {},
     "output_type": "execute_result"
    }
   ],
   "source": [
    "art1"
   ]
  },
  {
   "cell_type": "code",
   "execution_count": 12,
   "metadata": {},
   "outputs": [
    {
     "data": {
      "text/plain": [
       "'()___)____________) '"
      ]
     },
     "execution_count": 12,
     "metadata": {},
     "output_type": "execute_result"
    }
   ],
   "source": [
    "art.art(\"random\")"
   ]
  },
  {
   "cell_type": "code",
   "execution_count": 25,
   "metadata": {},
   "outputs": [],
   "source": [
    "a=art.text2art(\"ja\", font=\"small\")"
   ]
  },
  {
   "cell_type": "code",
   "execution_count": 26,
   "metadata": {},
   "outputs": [
    {
     "name": "stdout",
     "output_type": "stream",
     "text": [
      "   _       \n",
      "  (_) __ _ \n",
      "  | |/ _` |\n",
      " _/ |\\__,_|\n",
      "|__/       \n",
      "\n"
     ]
    }
   ],
   "source": [
    "print (a)"
   ]
  },
  {
   "cell_type": "code",
   "execution_count": 28,
   "metadata": {},
   "outputs": [],
   "source": [
    "import keyboard"
   ]
  },
  {
   "cell_type": "code",
   "execution_count": 27,
   "metadata": {},
   "outputs": [],
   "source": [
    "class ClaseEjemplo:\n",
    "    __contador=0\n",
    "    def __init__(self, val=1):\n",
    "        self.__primera=val\n",
    "        self.__segunda=val**val\n",
    "        ClaseEjemplo.__contador+=1"
   ]
  },
  {
   "cell_type": "code",
   "execution_count": 28,
   "metadata": {},
   "outputs": [],
   "source": [
    "objetoEjemplo1=ClaseEjemplo()\n"
   ]
  },
  {
   "cell_type": "code",
   "execution_count": 29,
   "metadata": {},
   "outputs": [],
   "source": [
    "objetoEjemplo2=ClaseEjemplo(2)\n",
    "objetoEjemplo3=ClaseEjemplo(3)"
   ]
  },
  {
   "cell_type": "code",
   "execution_count": 30,
   "metadata": {},
   "outputs": [
    {
     "name": "stdout",
     "output_type": "stream",
     "text": [
      "{'_ClaseEjemplo__primera': 2, '_ClaseEjemplo__segunda': 4}\n"
     ]
    }
   ],
   "source": [
    "print (objetoEjemplo2.__dict__)"
   ]
  },
  {
   "cell_type": "code",
   "execution_count": 25,
   "metadata": {},
   "outputs": [
    {
     "ename": "AttributeError",
     "evalue": "'ClaseEjemplo' object has no attribute '_ClaseEjemplo_contador'",
     "output_type": "error",
     "traceback": [
      "\u001b[1;31m---------------------------------------------------------------------------\u001b[0m",
      "\u001b[1;31mAttributeError\u001b[0m                            Traceback (most recent call last)",
      "\u001b[1;32m<ipython-input-25-02f94ac3db72>\u001b[0m in \u001b[0;36m<module>\u001b[1;34m\u001b[0m\n\u001b[1;32m----> 1\u001b[1;33m \u001b[0mprint\u001b[0m \u001b[1;33m(\u001b[0m\u001b[0mobjetoEjemplo1\u001b[0m\u001b[1;33m.\u001b[0m\u001b[0m_ClaseEjemplo_contador\u001b[0m\u001b[1;33m)\u001b[0m\u001b[1;33m\u001b[0m\u001b[1;33m\u001b[0m\u001b[0m\n\u001b[0m",
      "\u001b[1;31mAttributeError\u001b[0m: 'ClaseEjemplo' object has no attribute '_ClaseEjemplo_contador'"
     ]
    }
   ],
   "source": [
    "print (objetoEjemplo1._ClaseEjemplo_contador)"
   ]
  },
  {
   "cell_type": "code",
   "execution_count": 32,
   "metadata": {},
   "outputs": [
    {
     "data": {
      "text/plain": [
       "mappingproxy({'__module__': '__main__',\n",
       "              '_ClaseEjemplo__contador': 3,\n",
       "              '__init__': <function __main__.ClaseEjemplo.__init__(self, val=1)>,\n",
       "              '__dict__': <attribute '__dict__' of 'ClaseEjemplo' objects>,\n",
       "              '__weakref__': <attribute '__weakref__' of 'ClaseEjemplo' objects>,\n",
       "              '__doc__': None})"
      ]
     },
     "execution_count": 32,
     "metadata": {},
     "output_type": "execute_result"
    }
   ],
   "source": [
    "ClaseEjemplo.__dict__"
   ]
  },
  {
   "cell_type": "code",
   "execution_count": 34,
   "metadata": {},
   "outputs": [
    {
     "data": {
      "text/plain": [
       "{'_ClaseEjemplo__primera': 1, '_ClaseEjemplo__segunda': 1}"
      ]
     },
     "execution_count": 34,
     "metadata": {},
     "output_type": "execute_result"
    }
   ],
   "source": [
    "objetoEjemplo1.__dict__"
   ]
  },
  {
   "cell_type": "code",
   "execution_count": 35,
   "metadata": {},
   "outputs": [
    {
     "name": "stdout",
     "output_type": "stream",
     "text": [
      "{'__module__': '__main__', 'varia': 1, '__init__': <function ClaseEjemplo.__init__ at 0x000001773C284820>, '__dict__': <attribute '__dict__' of 'ClaseEjemplo' objects>, '__weakref__': <attribute '__weakref__' of 'ClaseEjemplo' objects>, '__doc__': None}\n",
      "{'__module__': '__main__', 'varia': 2, '__init__': <function ClaseEjemplo.__init__ at 0x000001773C284820>, '__dict__': <attribute '__dict__' of 'ClaseEjemplo' objects>, '__weakref__': <attribute '__weakref__' of 'ClaseEjemplo' objects>, '__doc__': None}\n",
      "{}\n"
     ]
    }
   ],
   "source": [
    "class ClaseEjemplo:\n",
    "    varia = 1\n",
    "    def __init__(self, val):\n",
    "        ClaseEjemplo.varia = val\n",
    "\n",
    "print(ClaseEjemplo.__dict__)\n",
    "objetoEjemplo = ClaseEjemplo(2)\n",
    "\n",
    "print(ClaseEjemplo.__dict__)\n",
    "print(objetoEjemplo.__dict__)"
   ]
  },
  {
   "cell_type": "code",
   "execution_count": 36,
   "metadata": {},
   "outputs": [],
   "source": [
    "class ClaseEjemplo:\n",
    "    def __init__(self, val):\n",
    "        if val%2!=0:\n",
    "            self.a=1\n",
    "        else:\n",
    "            self.b=1"
   ]
  },
  {
   "cell_type": "code",
   "execution_count": 37,
   "metadata": {},
   "outputs": [],
   "source": [
    "objetoEjemplo=ClaseEjemplo(1)"
   ]
  },
  {
   "cell_type": "code",
   "execution_count": 41,
   "metadata": {},
   "outputs": [
    {
     "name": "stdout",
     "output_type": "stream",
     "text": [
      "'ClaseEjemplo' object has no attribute 'b'\n"
     ]
    }
   ],
   "source": [
    "try:\n",
    "    objetoEjemplo.b\n",
    "except AttributeError as e:\n",
    "    print (e)"
   ]
  },
  {
   "cell_type": "code",
   "execution_count": 43,
   "metadata": {},
   "outputs": [
    {
     "name": "stdout",
     "output_type": "stream",
     "text": [
      "1\n"
     ]
    }
   ],
   "source": [
    "if hasattr(objetoEjemplo, 'a'):\n",
    "    print (objetoEjemplo.a)\n",
    "else:\n",
    "    print (\"El atributo no exite\")"
   ]
  },
  {
   "cell_type": "code",
   "execution_count": 44,
   "metadata": {},
   "outputs": [],
   "source": [
    "class ConClase:\n",
    "    varia=1\n",
    "    def __init__(self):\n",
    "        self.var=2\n",
    "        \n",
    "    def metodo(self):\n",
    "        pass\n",
    "    \n",
    "    def __oculto(self):\n",
    "        pass"
   ]
  },
  {
   "cell_type": "code",
   "execution_count": 45,
   "metadata": {},
   "outputs": [],
   "source": [
    "obj=ConClase()"
   ]
  },
  {
   "cell_type": "code",
   "execution_count": 46,
   "metadata": {},
   "outputs": [
    {
     "name": "stdout",
     "output_type": "stream",
     "text": [
      "{'var': 2}\n"
     ]
    }
   ],
   "source": [
    "print(obj.__dict__)"
   ]
  },
  {
   "cell_type": "code",
   "execution_count": 47,
   "metadata": {},
   "outputs": [
    {
     "name": "stdout",
     "output_type": "stream",
     "text": [
      "{'__module__': '__main__', 'varia': 1, '__init__': <function ConClase.__init__ at 0x000001773C284550>, 'metodo': <function ConClase.metodo at 0x000001773C284280>, '_ConClase__oculto': <function ConClase.__oculto at 0x000001773C2841F0>, '__dict__': <attribute '__dict__' of 'ConClase' objects>, '__weakref__': <attribute '__weakref__' of 'ConClase' objects>, '__doc__': None}\n"
     ]
    }
   ],
   "source": [
    "print(ConClase.__dict__)"
   ]
  },
  {
   "cell_type": "code",
   "execution_count": 49,
   "metadata": {},
   "outputs": [
    {
     "ename": "AttributeError",
     "evalue": "'ConClase' object has no attribute '__ConClase__oculto'",
     "output_type": "error",
     "traceback": [
      "\u001b[1;31m---------------------------------------------------------------------------\u001b[0m",
      "\u001b[1;31mAttributeError\u001b[0m                            Traceback (most recent call last)",
      "\u001b[1;32m<ipython-input-49-6af5d6a5a287>\u001b[0m in \u001b[0;36m<module>\u001b[1;34m\u001b[0m\n\u001b[1;32m----> 1\u001b[1;33m \u001b[0mprint\u001b[0m\u001b[1;33m(\u001b[0m\u001b[0mobj\u001b[0m\u001b[1;33m.\u001b[0m\u001b[0m__ConClase__oculto\u001b[0m\u001b[1;33m)\u001b[0m\u001b[1;33m\u001b[0m\u001b[1;33m\u001b[0m\u001b[0m\n\u001b[0m",
      "\u001b[1;31mAttributeError\u001b[0m: 'ConClase' object has no attribute '__ConClase__oculto'"
     ]
    }
   ],
   "source": [
    "print(obj.__ConClase__oculto)"
   ]
  },
  {
   "cell_type": "code",
   "execution_count": 50,
   "metadata": {},
   "outputs": [
    {
     "data": {
      "text/plain": [
       "<bound method ConClase.__oculto of <__main__.ConClase object at 0x000001773C6217C0>>"
      ]
     },
     "execution_count": 50,
     "metadata": {},
     "output_type": "execute_result"
    }
   ],
   "source": [
    "obj._ConClase__oculto"
   ]
  },
  {
   "cell_type": "code",
   "execution_count": 51,
   "metadata": {},
   "outputs": [
    {
     "data": {
      "text/plain": [
       "'ConClase'"
      ]
     },
     "execution_count": 51,
     "metadata": {},
     "output_type": "execute_result"
    }
   ],
   "source": [
    "ConClase.__name__"
   ]
  },
  {
   "cell_type": "code",
   "execution_count": 52,
   "metadata": {},
   "outputs": [
    {
     "ename": "AttributeError",
     "evalue": "'ConClase' object has no attribute '__name__'",
     "output_type": "error",
     "traceback": [
      "\u001b[1;31m---------------------------------------------------------------------------\u001b[0m",
      "\u001b[1;31mAttributeError\u001b[0m                            Traceback (most recent call last)",
      "\u001b[1;32m<ipython-input-52-d828aee8ceff>\u001b[0m in \u001b[0;36m<module>\u001b[1;34m\u001b[0m\n\u001b[1;32m----> 1\u001b[1;33m \u001b[0mobj\u001b[0m\u001b[1;33m.\u001b[0m\u001b[0m__name__\u001b[0m\u001b[1;33m\u001b[0m\u001b[1;33m\u001b[0m\u001b[0m\n\u001b[0m",
      "\u001b[1;31mAttributeError\u001b[0m: 'ConClase' object has no attribute '__name__'"
     ]
    }
   ],
   "source": [
    "obj.__name__"
   ]
  },
  {
   "cell_type": "code",
   "execution_count": 53,
   "metadata": {},
   "outputs": [
    {
     "data": {
      "text/plain": [
       "'__main__'"
      ]
     },
     "execution_count": 53,
     "metadata": {},
     "output_type": "execute_result"
    }
   ],
   "source": [
    "ConClase.__module__"
   ]
  },
  {
   "cell_type": "code",
   "execution_count": 54,
   "metadata": {},
   "outputs": [],
   "source": [
    "class SuperUno:\n",
    "    pass\n",
    "\n",
    "class SuperDos:\n",
    "    pass\n",
    "\n",
    "class Sub(SuperUno, SuperDos):\n",
    "    pass"
   ]
  },
  {
   "cell_type": "code",
   "execution_count": 59,
   "metadata": {},
   "outputs": [],
   "source": [
    "def printBases(cls):\n",
    "    print (\"(\", end=\"\")\n",
    "    for x in cls.__bases__:\n",
    "        print (x.__name__, end=\"\")\n",
    "    print (\")\")"
   ]
  },
  {
   "cell_type": "code",
   "execution_count": 60,
   "metadata": {},
   "outputs": [
    {
     "name": "stdout",
     "output_type": "stream",
     "text": [
      "(object)\n"
     ]
    }
   ],
   "source": [
    "printBases(SuperUno)"
   ]
  },
  {
   "cell_type": "code",
   "execution_count": 61,
   "metadata": {},
   "outputs": [
    {
     "name": "stdout",
     "output_type": "stream",
     "text": [
      "(object)\n"
     ]
    }
   ],
   "source": [
    "printBases(SuperDos)"
   ]
  },
  {
   "cell_type": "code",
   "execution_count": 62,
   "metadata": {},
   "outputs": [
    {
     "name": "stdout",
     "output_type": "stream",
     "text": [
      "(SuperUnoSuperDos)\n"
     ]
    }
   ],
   "source": [
    "printBases(Sub)"
   ]
  },
  {
   "cell_type": "code",
   "execution_count": 68,
   "metadata": {},
   "outputs": [
    {
     "data": {
      "text/plain": [
       "(__main__.SuperUno, __main__.SuperDos)"
      ]
     },
     "execution_count": 68,
     "metadata": {},
     "output_type": "execute_result"
    }
   ],
   "source": [
    "Sub.__bases__"
   ]
  },
  {
   "cell_type": "code",
   "execution_count": 70,
   "metadata": {},
   "outputs": [],
   "source": [
    "class Coche():\n",
    "    def __init__(self):\n",
    "        self.__ruedas=4\n",
    "        self.__puertas=5\n",
    "        self.__combustible=\"gasolina\"\n",
    "        self.__asientos=5\n",
    "        self.__color=\"rojo\"\n",
    "        "
   ]
  },
  {
   "cell_type": "code",
   "execution_count": 71,
   "metadata": {},
   "outputs": [],
   "source": [
    "coche=Coche()"
   ]
  },
  {
   "cell_type": "code",
   "execution_count": 74,
   "metadata": {},
   "outputs": [
    {
     "name": "stdout",
     "output_type": "stream",
     "text": [
      "_Coche__ruedas valor: 4\n",
      "_Coche__puertas valor: 5\n",
      "_Coche__combustible valor: gasolina\n",
      "_Coche__asientos valor: 5\n",
      "_Coche__color valor: rojo\n"
     ]
    }
   ],
   "source": [
    "for atr in coche.__dict__.keys():\n",
    "    print (f\"{atr} valor: {coche.__dict__[atr]}\")"
   ]
  },
  {
   "cell_type": "code",
   "execution_count": 76,
   "metadata": {},
   "outputs": [],
   "source": [
    "val=getattr(coche, \"_Coche__puertas\")"
   ]
  },
  {
   "cell_type": "code",
   "execution_count": 77,
   "metadata": {},
   "outputs": [
    {
     "data": {
      "text/plain": [
       "5"
      ]
     },
     "execution_count": 77,
     "metadata": {},
     "output_type": "execute_result"
    }
   ],
   "source": [
    "val"
   ]
  },
  {
   "cell_type": "code",
   "execution_count": 79,
   "metadata": {},
   "outputs": [
    {
     "name": "stdout",
     "output_type": "stream",
     "text": [
      "{'_Coche__ruedas': 4, '_Coche__puertas': 5, '_Coche__combustible': 'gasolina', '_Coche__asientos': 5, '_Coche__color': 'rojo'}\n"
     ]
    }
   ],
   "source": [
    "print (coche.__dict__)"
   ]
  },
  {
   "cell_type": "code",
   "execution_count": 80,
   "metadata": {},
   "outputs": [
    {
     "data": {
      "text/plain": [
       "4"
      ]
     },
     "execution_count": 80,
     "metadata": {},
     "output_type": "execute_result"
    }
   ],
   "source": [
    "coche._Coche__ruedas"
   ]
  },
  {
   "cell_type": "code",
   "execution_count": 2,
   "metadata": {},
   "outputs": [
    {
     "name": "stdout",
     "output_type": "stream",
     "text": [
      "-10 is -10: True\n",
      "-9 is -9: True\n",
      "-8 is -8: True\n",
      "-7 is -7: True\n",
      "-6 is -6: True\n",
      "-5 is -5: True\n",
      "-4 is -4: True\n",
      "-3 is -3: True\n",
      "-2 is -2: True\n",
      "-1 is -1: True\n",
      "0 is 0: True\n",
      "1 is 1: True\n",
      "2 is 2: True\n",
      "3 is 3: True\n",
      "4 is 4: True\n",
      "5 is 5: True\n",
      "6 is 6: True\n",
      "7 is 7: True\n",
      "8 is 8: True\n",
      "9 is 9: True\n",
      "10 is 10: True\n",
      "11 is 11: True\n",
      "12 is 12: True\n",
      "13 is 13: True\n",
      "14 is 14: True\n",
      "15 is 15: True\n",
      "16 is 16: True\n",
      "17 is 17: True\n",
      "18 is 18: True\n",
      "19 is 19: True\n",
      "20 is 20: True\n",
      "21 is 21: True\n",
      "22 is 22: True\n",
      "23 is 23: True\n",
      "24 is 24: True\n",
      "25 is 25: True\n",
      "26 is 26: True\n",
      "27 is 27: True\n",
      "28 is 28: True\n",
      "29 is 29: True\n",
      "30 is 30: True\n",
      "31 is 31: True\n",
      "32 is 32: True\n",
      "33 is 33: True\n",
      "34 is 34: True\n",
      "35 is 35: True\n",
      "36 is 36: True\n",
      "37 is 37: True\n",
      "38 is 38: True\n",
      "39 is 39: True\n",
      "40 is 40: True\n",
      "41 is 41: True\n",
      "42 is 42: True\n",
      "43 is 43: True\n",
      "44 is 44: True\n",
      "45 is 45: True\n",
      "46 is 46: True\n",
      "47 is 47: True\n",
      "48 is 48: True\n",
      "49 is 49: True\n",
      "50 is 50: True\n",
      "51 is 51: True\n",
      "52 is 52: True\n",
      "53 is 53: True\n",
      "54 is 54: True\n",
      "55 is 55: True\n",
      "56 is 56: True\n",
      "57 is 57: True\n",
      "58 is 58: True\n",
      "59 is 59: True\n",
      "60 is 60: True\n",
      "61 is 61: True\n",
      "62 is 62: True\n",
      "63 is 63: True\n",
      "64 is 64: True\n",
      "65 is 65: True\n",
      "66 is 66: True\n",
      "67 is 67: True\n",
      "68 is 68: True\n",
      "69 is 69: True\n",
      "70 is 70: True\n",
      "71 is 71: True\n",
      "72 is 72: True\n",
      "73 is 73: True\n",
      "74 is 74: True\n",
      "75 is 75: True\n",
      "76 is 76: True\n",
      "77 is 77: True\n",
      "78 is 78: True\n",
      "79 is 79: True\n",
      "80 is 80: True\n",
      "81 is 81: True\n",
      "82 is 82: True\n",
      "83 is 83: True\n",
      "84 is 84: True\n",
      "85 is 85: True\n",
      "86 is 86: True\n",
      "87 is 87: True\n",
      "88 is 88: True\n",
      "89 is 89: True\n",
      "90 is 90: True\n",
      "91 is 91: True\n",
      "92 is 92: True\n",
      "93 is 93: True\n",
      "94 is 94: True\n",
      "95 is 95: True\n",
      "96 is 96: True\n",
      "97 is 97: True\n",
      "98 is 98: True\n",
      "99 is 99: True\n",
      "100 is 100: True\n",
      "101 is 101: True\n",
      "102 is 102: True\n",
      "103 is 103: True\n",
      "104 is 104: True\n",
      "105 is 105: True\n",
      "106 is 106: True\n",
      "107 is 107: True\n",
      "108 is 108: True\n",
      "109 is 109: True\n",
      "110 is 110: True\n",
      "111 is 111: True\n",
      "112 is 112: True\n",
      "113 is 113: True\n",
      "114 is 114: True\n",
      "115 is 115: True\n",
      "116 is 116: True\n",
      "117 is 117: True\n",
      "118 is 118: True\n",
      "119 is 119: True\n",
      "120 is 120: True\n",
      "121 is 121: True\n",
      "122 is 122: True\n",
      "123 is 123: True\n",
      "124 is 124: True\n",
      "125 is 125: True\n",
      "126 is 126: True\n",
      "127 is 127: True\n",
      "128 is 128: True\n",
      "129 is 129: True\n",
      "130 is 130: True\n",
      "131 is 131: True\n",
      "132 is 132: True\n",
      "133 is 133: True\n",
      "134 is 134: True\n",
      "135 is 135: True\n",
      "136 is 136: True\n",
      "137 is 137: True\n",
      "138 is 138: True\n",
      "139 is 139: True\n",
      "140 is 140: True\n",
      "141 is 141: True\n",
      "142 is 142: True\n",
      "143 is 143: True\n",
      "144 is 144: True\n",
      "145 is 145: True\n",
      "146 is 146: True\n",
      "147 is 147: True\n",
      "148 is 148: True\n",
      "149 is 149: True\n",
      "150 is 150: True\n",
      "151 is 151: True\n",
      "152 is 152: True\n",
      "153 is 153: True\n",
      "154 is 154: True\n",
      "155 is 155: True\n",
      "156 is 156: True\n",
      "157 is 157: True\n",
      "158 is 158: True\n",
      "159 is 159: True\n",
      "160 is 160: True\n",
      "161 is 161: True\n",
      "162 is 162: True\n",
      "163 is 163: True\n",
      "164 is 164: True\n",
      "165 is 165: True\n",
      "166 is 166: True\n",
      "167 is 167: True\n",
      "168 is 168: True\n",
      "169 is 169: True\n",
      "170 is 170: True\n",
      "171 is 171: True\n",
      "172 is 172: True\n",
      "173 is 173: True\n",
      "174 is 174: True\n",
      "175 is 175: True\n",
      "176 is 176: True\n",
      "177 is 177: True\n",
      "178 is 178: True\n",
      "179 is 179: True\n",
      "180 is 180: True\n",
      "181 is 181: True\n",
      "182 is 182: True\n",
      "183 is 183: True\n",
      "184 is 184: True\n",
      "185 is 185: True\n",
      "186 is 186: True\n",
      "187 is 187: True\n",
      "188 is 188: True\n",
      "189 is 189: True\n",
      "190 is 190: True\n",
      "191 is 191: True\n",
      "192 is 192: True\n",
      "193 is 193: True\n",
      "194 is 194: True\n",
      "195 is 195: True\n",
      "196 is 196: True\n",
      "197 is 197: True\n",
      "198 is 198: True\n",
      "199 is 199: True\n",
      "200 is 200: True\n",
      "201 is 201: True\n",
      "202 is 202: True\n",
      "203 is 203: True\n",
      "204 is 204: True\n",
      "205 is 205: True\n",
      "206 is 206: True\n",
      "207 is 207: True\n",
      "208 is 208: True\n",
      "209 is 209: True\n",
      "210 is 210: True\n",
      "211 is 211: True\n",
      "212 is 212: True\n",
      "213 is 213: True\n",
      "214 is 214: True\n",
      "215 is 215: True\n",
      "216 is 216: True\n",
      "217 is 217: True\n",
      "218 is 218: True\n",
      "219 is 219: True\n",
      "220 is 220: True\n",
      "221 is 221: True\n",
      "222 is 222: True\n",
      "223 is 223: True\n",
      "224 is 224: True\n",
      "225 is 225: True\n",
      "226 is 226: True\n",
      "227 is 227: True\n",
      "228 is 228: True\n",
      "229 is 229: True\n",
      "230 is 230: True\n",
      "231 is 231: True\n",
      "232 is 232: True\n",
      "233 is 233: True\n",
      "234 is 234: True\n",
      "235 is 235: True\n",
      "236 is 236: True\n",
      "237 is 237: True\n",
      "238 is 238: True\n",
      "239 is 239: True\n",
      "240 is 240: True\n",
      "241 is 241: True\n",
      "242 is 242: True\n",
      "243 is 243: True\n",
      "244 is 244: True\n",
      "245 is 245: True\n",
      "246 is 246: True\n",
      "247 is 247: True\n",
      "248 is 248: True\n",
      "249 is 249: True\n",
      "250 is 250: True\n",
      "251 is 251: True\n",
      "252 is 252: True\n",
      "253 is 253: True\n",
      "254 is 254: True\n",
      "255 is 255: True\n",
      "256 is 256: True\n",
      "257 is 257: True\n",
      "258 is 258: True\n",
      "259 is 259: True\n",
      "260 is 260: True\n",
      "261 is 261: True\n",
      "262 is 262: True\n",
      "263 is 263: True\n",
      "264 is 264: True\n",
      "265 is 265: True\n",
      "266 is 266: True\n",
      "267 is 267: True\n",
      "268 is 268: True\n",
      "269 is 269: True\n",
      "270 is 270: True\n",
      "271 is 271: True\n",
      "272 is 272: True\n",
      "273 is 273: True\n",
      "274 is 274: True\n",
      "275 is 275: True\n",
      "276 is 276: True\n",
      "277 is 277: True\n",
      "278 is 278: True\n",
      "279 is 279: True\n",
      "280 is 280: True\n",
      "281 is 281: True\n",
      "282 is 282: True\n",
      "283 is 283: True\n",
      "284 is 284: True\n",
      "285 is 285: True\n",
      "286 is 286: True\n",
      "287 is 287: True\n",
      "288 is 288: True\n",
      "289 is 289: True\n",
      "290 is 290: True\n",
      "291 is 291: True\n",
      "292 is 292: True\n",
      "293 is 293: True\n",
      "294 is 294: True\n",
      "295 is 295: True\n",
      "296 is 296: True\n",
      "297 is 297: True\n",
      "298 is 298: True\n",
      "299 is 299: True\n",
      "300 is 300: True\n",
      "301 is 301: True\n",
      "302 is 302: True\n",
      "303 is 303: True\n",
      "304 is 304: True\n",
      "305 is 305: True\n",
      "306 is 306: True\n",
      "307 is 307: True\n",
      "308 is 308: True\n",
      "309 is 309: True\n",
      "310 is 310: True\n",
      "311 is 311: True\n",
      "312 is 312: True\n",
      "313 is 313: True\n",
      "314 is 314: True\n",
      "315 is 315: True\n",
      "316 is 316: True\n",
      "317 is 317: True\n",
      "318 is 318: True\n",
      "319 is 319: True\n",
      "320 is 320: True\n",
      "321 is 321: True\n",
      "322 is 322: True\n",
      "323 is 323: True\n",
      "324 is 324: True\n",
      "325 is 325: True\n",
      "326 is 326: True\n",
      "327 is 327: True\n",
      "328 is 328: True\n",
      "329 is 329: True\n",
      "330 is 330: True\n",
      "331 is 331: True\n",
      "332 is 332: True\n",
      "333 is 333: True\n",
      "334 is 334: True\n",
      "335 is 335: True\n",
      "336 is 336: True\n",
      "337 is 337: True\n",
      "338 is 338: True\n",
      "339 is 339: True\n",
      "340 is 340: True\n",
      "341 is 341: True\n",
      "342 is 342: True\n",
      "343 is 343: True\n",
      "344 is 344: True\n",
      "345 is 345: True\n",
      "346 is 346: True\n",
      "347 is 347: True\n",
      "348 is 348: True\n",
      "349 is 349: True\n",
      "350 is 350: True\n",
      "351 is 351: True\n",
      "352 is 352: True\n",
      "353 is 353: True\n",
      "354 is 354: True\n",
      "355 is 355: True\n",
      "356 is 356: True\n",
      "357 is 357: True\n",
      "358 is 358: True\n",
      "359 is 359: True\n",
      "360 is 360: True\n",
      "361 is 361: True\n",
      "362 is 362: True\n",
      "363 is 363: True\n",
      "364 is 364: True\n",
      "365 is 365: True\n",
      "366 is 366: True\n",
      "367 is 367: True\n",
      "368 is 368: True\n",
      "369 is 369: True\n",
      "370 is 370: True\n",
      "371 is 371: True\n",
      "372 is 372: True\n",
      "373 is 373: True\n",
      "374 is 374: True\n",
      "375 is 375: True\n",
      "376 is 376: True\n",
      "377 is 377: True\n",
      "378 is 378: True\n",
      "379 is 379: True\n",
      "380 is 380: True\n",
      "381 is 381: True\n",
      "382 is 382: True\n",
      "383 is 383: True\n",
      "384 is 384: True\n",
      "385 is 385: True\n",
      "386 is 386: True\n",
      "387 is 387: True\n",
      "388 is 388: True\n",
      "389 is 389: True\n",
      "390 is 390: True\n",
      "391 is 391: True\n",
      "392 is 392: True\n",
      "393 is 393: True\n",
      "394 is 394: True\n",
      "395 is 395: True\n",
      "396 is 396: True\n",
      "397 is 397: True\n",
      "398 is 398: True\n",
      "399 is 399: True\n",
      "400 is 400: True\n",
      "401 is 401: True\n",
      "402 is 402: True\n",
      "403 is 403: True\n",
      "404 is 404: True\n",
      "405 is 405: True\n",
      "406 is 406: True\n",
      "407 is 407: True\n",
      "408 is 408: True\n",
      "409 is 409: True\n",
      "410 is 410: True\n",
      "411 is 411: True\n",
      "412 is 412: True\n",
      "413 is 413: True\n",
      "414 is 414: True\n",
      "415 is 415: True\n",
      "416 is 416: True\n",
      "417 is 417: True\n",
      "418 is 418: True\n",
      "419 is 419: True\n",
      "420 is 420: True\n",
      "421 is 421: True\n",
      "422 is 422: True\n",
      "423 is 423: True\n",
      "424 is 424: True\n",
      "425 is 425: True\n",
      "426 is 426: True\n",
      "427 is 427: True\n",
      "428 is 428: True\n",
      "429 is 429: True\n",
      "430 is 430: True\n",
      "431 is 431: True\n",
      "432 is 432: True\n",
      "433 is 433: True\n",
      "434 is 434: True\n",
      "435 is 435: True\n",
      "436 is 436: True\n",
      "437 is 437: True\n",
      "438 is 438: True\n",
      "439 is 439: True\n",
      "440 is 440: True\n",
      "441 is 441: True\n",
      "442 is 442: True\n",
      "443 is 443: True\n",
      "444 is 444: True\n",
      "445 is 445: True\n",
      "446 is 446: True\n",
      "447 is 447: True\n",
      "448 is 448: True\n",
      "449 is 449: True\n",
      "450 is 450: True\n",
      "451 is 451: True\n",
      "452 is 452: True\n",
      "453 is 453: True\n",
      "454 is 454: True\n",
      "455 is 455: True\n",
      "456 is 456: True\n",
      "457 is 457: True\n",
      "458 is 458: True\n",
      "459 is 459: True\n",
      "460 is 460: True\n",
      "461 is 461: True\n",
      "462 is 462: True\n",
      "463 is 463: True\n",
      "464 is 464: True\n",
      "465 is 465: True\n",
      "466 is 466: True\n",
      "467 is 467: True\n",
      "468 is 468: True\n",
      "469 is 469: True\n",
      "470 is 470: True\n",
      "471 is 471: True\n",
      "472 is 472: True\n",
      "473 is 473: True\n",
      "474 is 474: True\n",
      "475 is 475: True\n",
      "476 is 476: True\n",
      "477 is 477: True\n",
      "478 is 478: True\n",
      "479 is 479: True\n",
      "480 is 480: True\n",
      "481 is 481: True\n",
      "482 is 482: True\n",
      "483 is 483: True\n",
      "484 is 484: True\n",
      "485 is 485: True\n",
      "486 is 486: True\n",
      "487 is 487: True\n",
      "488 is 488: True\n",
      "489 is 489: True\n",
      "490 is 490: True\n",
      "491 is 491: True\n",
      "492 is 492: True\n",
      "493 is 493: True\n",
      "494 is 494: True\n",
      "495 is 495: True\n",
      "496 is 496: True\n",
      "497 is 497: True\n",
      "498 is 498: True\n",
      "499 is 499: True\n",
      "500 is 500: True\n",
      "501 is 501: True\n",
      "502 is 502: True\n",
      "503 is 503: True\n",
      "504 is 504: True\n",
      "505 is 505: True\n",
      "506 is 506: True\n",
      "507 is 507: True\n",
      "508 is 508: True\n",
      "509 is 509: True\n",
      "510 is 510: True\n",
      "511 is 511: True\n",
      "512 is 512: True\n",
      "513 is 513: True\n",
      "514 is 514: True\n",
      "515 is 515: True\n",
      "516 is 516: True\n",
      "517 is 517: True\n",
      "518 is 518: True\n",
      "519 is 519: True\n",
      "520 is 520: True\n",
      "521 is 521: True\n",
      "522 is 522: True\n",
      "523 is 523: True\n",
      "524 is 524: True\n",
      "525 is 525: True\n",
      "526 is 526: True\n",
      "527 is 527: True\n",
      "528 is 528: True\n",
      "529 is 529: True\n",
      "530 is 530: True\n",
      "531 is 531: True\n",
      "532 is 532: True\n",
      "533 is 533: True\n",
      "534 is 534: True\n",
      "535 is 535: True\n",
      "536 is 536: True\n",
      "537 is 537: True\n",
      "538 is 538: True\n",
      "539 is 539: True\n",
      "540 is 540: True\n",
      "541 is 541: True\n",
      "542 is 542: True\n",
      "543 is 543: True\n",
      "544 is 544: True\n",
      "545 is 545: True\n",
      "546 is 546: True\n",
      "547 is 547: True\n",
      "548 is 548: True\n",
      "549 is 549: True\n",
      "550 is 550: True\n",
      "551 is 551: True\n",
      "552 is 552: True\n",
      "553 is 553: True\n",
      "554 is 554: True\n",
      "555 is 555: True\n",
      "556 is 556: True\n",
      "557 is 557: True\n",
      "558 is 558: True\n",
      "559 is 559: True\n",
      "560 is 560: True\n",
      "561 is 561: True\n",
      "562 is 562: True\n",
      "563 is 563: True\n",
      "564 is 564: True\n",
      "565 is 565: True\n",
      "566 is 566: True\n",
      "567 is 567: True\n",
      "568 is 568: True\n",
      "569 is 569: True\n",
      "570 is 570: True\n",
      "571 is 571: True\n",
      "572 is 572: True\n",
      "573 is 573: True\n",
      "574 is 574: True\n",
      "575 is 575: True\n",
      "576 is 576: True\n",
      "577 is 577: True\n",
      "578 is 578: True\n",
      "579 is 579: True\n",
      "580 is 580: True\n",
      "581 is 581: True\n",
      "582 is 582: True\n",
      "583 is 583: True\n",
      "584 is 584: True\n",
      "585 is 585: True\n",
      "586 is 586: True\n",
      "587 is 587: True\n",
      "588 is 588: True\n",
      "589 is 589: True\n",
      "590 is 590: True\n",
      "591 is 591: True\n",
      "592 is 592: True\n",
      "593 is 593: True\n",
      "594 is 594: True\n",
      "595 is 595: True\n",
      "596 is 596: True\n",
      "597 is 597: True\n",
      "598 is 598: True\n",
      "599 is 599: True\n",
      "600 is 600: True\n",
      "601 is 601: True\n",
      "602 is 602: True\n",
      "603 is 603: True\n",
      "604 is 604: True\n",
      "605 is 605: True\n",
      "606 is 606: True\n",
      "607 is 607: True\n",
      "608 is 608: True\n",
      "609 is 609: True\n",
      "610 is 610: True\n",
      "611 is 611: True\n",
      "612 is 612: True\n",
      "613 is 613: True\n",
      "614 is 614: True\n",
      "615 is 615: True\n",
      "616 is 616: True\n",
      "617 is 617: True\n",
      "618 is 618: True\n",
      "619 is 619: True\n",
      "620 is 620: True\n",
      "621 is 621: True\n",
      "622 is 622: True\n",
      "623 is 623: True\n",
      "624 is 624: True\n",
      "625 is 625: True\n",
      "626 is 626: True\n",
      "627 is 627: True\n",
      "628 is 628: True\n",
      "629 is 629: True\n",
      "630 is 630: True\n",
      "631 is 631: True\n",
      "632 is 632: True\n",
      "633 is 633: True\n",
      "634 is 634: True\n",
      "635 is 635: True\n",
      "636 is 636: True\n",
      "637 is 637: True\n",
      "638 is 638: True\n",
      "639 is 639: True\n",
      "640 is 640: True\n",
      "641 is 641: True\n",
      "642 is 642: True\n",
      "643 is 643: True\n",
      "644 is 644: True\n",
      "645 is 645: True\n",
      "646 is 646: True\n",
      "647 is 647: True\n",
      "648 is 648: True\n",
      "649 is 649: True\n",
      "650 is 650: True\n",
      "651 is 651: True\n",
      "652 is 652: True\n",
      "653 is 653: True\n",
      "654 is 654: True\n",
      "655 is 655: True\n",
      "656 is 656: True\n",
      "657 is 657: True\n",
      "658 is 658: True\n",
      "659 is 659: True\n",
      "660 is 660: True\n",
      "661 is 661: True\n",
      "662 is 662: True\n",
      "663 is 663: True\n",
      "664 is 664: True\n",
      "665 is 665: True\n",
      "666 is 666: True\n",
      "667 is 667: True\n",
      "668 is 668: True\n",
      "669 is 669: True\n",
      "670 is 670: True\n",
      "671 is 671: True\n",
      "672 is 672: True\n",
      "673 is 673: True\n",
      "674 is 674: True\n",
      "675 is 675: True\n",
      "676 is 676: True\n",
      "677 is 677: True\n",
      "678 is 678: True\n",
      "679 is 679: True\n",
      "680 is 680: True\n",
      "681 is 681: True\n",
      "682 is 682: True\n",
      "683 is 683: True\n",
      "684 is 684: True\n",
      "685 is 685: True\n",
      "686 is 686: True\n",
      "687 is 687: True\n",
      "688 is 688: True\n",
      "689 is 689: True\n",
      "690 is 690: True\n",
      "691 is 691: True\n",
      "692 is 692: True\n",
      "693 is 693: True\n",
      "694 is 694: True\n",
      "695 is 695: True\n",
      "696 is 696: True\n",
      "697 is 697: True\n",
      "698 is 698: True\n",
      "699 is 699: True\n",
      "700 is 700: True\n",
      "701 is 701: True\n",
      "702 is 702: True\n",
      "703 is 703: True\n",
      "704 is 704: True\n",
      "705 is 705: True\n",
      "706 is 706: True\n",
      "707 is 707: True\n",
      "708 is 708: True\n",
      "709 is 709: True\n",
      "710 is 710: True\n",
      "711 is 711: True\n",
      "712 is 712: True\n",
      "713 is 713: True\n",
      "714 is 714: True\n",
      "715 is 715: True\n",
      "716 is 716: True\n",
      "717 is 717: True\n",
      "718 is 718: True\n",
      "719 is 719: True\n",
      "720 is 720: True\n",
      "721 is 721: True\n",
      "722 is 722: True\n",
      "723 is 723: True\n",
      "724 is 724: True\n",
      "725 is 725: True\n",
      "726 is 726: True\n",
      "727 is 727: True\n",
      "728 is 728: True\n",
      "729 is 729: True\n",
      "730 is 730: True\n",
      "731 is 731: True\n",
      "732 is 732: True\n",
      "733 is 733: True\n",
      "734 is 734: True\n",
      "735 is 735: True\n",
      "736 is 736: True\n",
      "737 is 737: True\n",
      "738 is 738: True\n",
      "739 is 739: True\n",
      "740 is 740: True\n",
      "741 is 741: True\n",
      "742 is 742: True\n",
      "743 is 743: True\n",
      "744 is 744: True\n",
      "745 is 745: True\n",
      "746 is 746: True\n",
      "747 is 747: True\n",
      "748 is 748: True\n",
      "749 is 749: True\n",
      "750 is 750: True\n",
      "751 is 751: True\n",
      "752 is 752: True\n",
      "753 is 753: True\n",
      "754 is 754: True\n",
      "755 is 755: True\n",
      "756 is 756: True\n",
      "757 is 757: True\n",
      "758 is 758: True\n",
      "759 is 759: True\n",
      "760 is 760: True\n",
      "761 is 761: True\n",
      "762 is 762: True\n",
      "763 is 763: True\n",
      "764 is 764: True\n",
      "765 is 765: True\n",
      "766 is 766: True\n",
      "767 is 767: True\n",
      "768 is 768: True\n",
      "769 is 769: True\n",
      "770 is 770: True\n",
      "771 is 771: True\n",
      "772 is 772: True\n",
      "773 is 773: True\n",
      "774 is 774: True\n",
      "775 is 775: True\n",
      "776 is 776: True\n",
      "777 is 777: True\n",
      "778 is 778: True\n",
      "779 is 779: True\n",
      "780 is 780: True\n",
      "781 is 781: True\n",
      "782 is 782: True\n",
      "783 is 783: True\n",
      "784 is 784: True\n",
      "785 is 785: True\n",
      "786 is 786: True\n",
      "787 is 787: True\n",
      "788 is 788: True\n",
      "789 is 789: True\n",
      "790 is 790: True\n",
      "791 is 791: True\n",
      "792 is 792: True\n",
      "793 is 793: True\n",
      "794 is 794: True\n",
      "795 is 795: True\n",
      "796 is 796: True\n",
      "797 is 797: True\n",
      "798 is 798: True\n",
      "799 is 799: True\n",
      "800 is 800: True\n",
      "801 is 801: True\n",
      "802 is 802: True\n",
      "803 is 803: True\n",
      "804 is 804: True\n",
      "805 is 805: True\n",
      "806 is 806: True\n",
      "807 is 807: True\n",
      "808 is 808: True\n",
      "809 is 809: True\n",
      "810 is 810: True\n",
      "811 is 811: True\n",
      "812 is 812: True\n",
      "813 is 813: True\n",
      "814 is 814: True\n",
      "815 is 815: True\n",
      "816 is 816: True\n",
      "817 is 817: True\n",
      "818 is 818: True\n",
      "819 is 819: True\n",
      "820 is 820: True\n",
      "821 is 821: True\n",
      "822 is 822: True\n",
      "823 is 823: True\n",
      "824 is 824: True\n",
      "825 is 825: True\n",
      "826 is 826: True\n",
      "827 is 827: True\n",
      "828 is 828: True\n",
      "829 is 829: True\n",
      "830 is 830: True\n",
      "831 is 831: True\n",
      "832 is 832: True\n",
      "833 is 833: True\n",
      "834 is 834: True\n",
      "835 is 835: True\n",
      "836 is 836: True\n",
      "837 is 837: True\n",
      "838 is 838: True\n",
      "839 is 839: True\n",
      "840 is 840: True\n",
      "841 is 841: True\n",
      "842 is 842: True\n",
      "843 is 843: True\n",
      "844 is 844: True\n",
      "845 is 845: True\n",
      "846 is 846: True\n",
      "847 is 847: True\n",
      "848 is 848: True\n",
      "849 is 849: True\n",
      "850 is 850: True\n",
      "851 is 851: True\n",
      "852 is 852: True\n",
      "853 is 853: True\n",
      "854 is 854: True\n",
      "855 is 855: True\n",
      "856 is 856: True\n",
      "857 is 857: True\n",
      "858 is 858: True\n",
      "859 is 859: True\n",
      "860 is 860: True\n",
      "861 is 861: True\n",
      "862 is 862: True\n",
      "863 is 863: True\n",
      "864 is 864: True\n",
      "865 is 865: True\n",
      "866 is 866: True\n",
      "867 is 867: True\n",
      "868 is 868: True\n",
      "869 is 869: True\n",
      "870 is 870: True\n",
      "871 is 871: True\n",
      "872 is 872: True\n",
      "873 is 873: True\n",
      "874 is 874: True\n",
      "875 is 875: True\n",
      "876 is 876: True\n",
      "877 is 877: True\n",
      "878 is 878: True\n",
      "879 is 879: True\n",
      "880 is 880: True\n",
      "881 is 881: True\n",
      "882 is 882: True\n",
      "883 is 883: True\n",
      "884 is 884: True\n",
      "885 is 885: True\n",
      "886 is 886: True\n",
      "887 is 887: True\n",
      "888 is 888: True\n",
      "889 is 889: True\n",
      "890 is 890: True\n",
      "891 is 891: True\n",
      "892 is 892: True\n",
      "893 is 893: True\n",
      "894 is 894: True\n",
      "895 is 895: True\n",
      "896 is 896: True\n",
      "897 is 897: True\n",
      "898 is 898: True\n",
      "899 is 899: True\n",
      "900 is 900: True\n",
      "901 is 901: True\n",
      "902 is 902: True\n",
      "903 is 903: True\n",
      "904 is 904: True\n",
      "905 is 905: True\n",
      "906 is 906: True\n",
      "907 is 907: True\n",
      "908 is 908: True\n",
      "909 is 909: True\n",
      "910 is 910: True\n",
      "911 is 911: True\n",
      "912 is 912: True\n",
      "913 is 913: True\n",
      "914 is 914: True\n",
      "915 is 915: True\n",
      "916 is 916: True\n",
      "917 is 917: True\n",
      "918 is 918: True\n",
      "919 is 919: True\n",
      "920 is 920: True\n",
      "921 is 921: True\n",
      "922 is 922: True\n",
      "923 is 923: True\n",
      "924 is 924: True\n",
      "925 is 925: True\n",
      "926 is 926: True\n",
      "927 is 927: True\n",
      "928 is 928: True\n",
      "929 is 929: True\n",
      "930 is 930: True\n",
      "931 is 931: True\n",
      "932 is 932: True\n",
      "933 is 933: True\n",
      "934 is 934: True\n",
      "935 is 935: True\n",
      "936 is 936: True\n",
      "937 is 937: True\n",
      "938 is 938: True\n",
      "939 is 939: True\n",
      "940 is 940: True\n",
      "941 is 941: True\n",
      "942 is 942: True\n",
      "943 is 943: True\n",
      "944 is 944: True\n",
      "945 is 945: True\n",
      "946 is 946: True\n",
      "947 is 947: True\n",
      "948 is 948: True\n",
      "949 is 949: True\n",
      "950 is 950: True\n",
      "951 is 951: True\n",
      "952 is 952: True\n",
      "953 is 953: True\n",
      "954 is 954: True\n",
      "955 is 955: True\n",
      "956 is 956: True\n",
      "957 is 957: True\n",
      "958 is 958: True\n",
      "959 is 959: True\n",
      "960 is 960: True\n",
      "961 is 961: True\n",
      "962 is 962: True\n",
      "963 is 963: True\n",
      "964 is 964: True\n",
      "965 is 965: True\n",
      "966 is 966: True\n",
      "967 is 967: True\n",
      "968 is 968: True\n",
      "969 is 969: True\n",
      "970 is 970: True\n",
      "971 is 971: True\n",
      "972 is 972: True\n",
      "973 is 973: True\n",
      "974 is 974: True\n",
      "975 is 975: True\n",
      "976 is 976: True\n",
      "977 is 977: True\n",
      "978 is 978: True\n",
      "979 is 979: True\n",
      "980 is 980: True\n",
      "981 is 981: True\n",
      "982 is 982: True\n",
      "983 is 983: True\n",
      "984 is 984: True\n",
      "985 is 985: True\n",
      "986 is 986: True\n",
      "987 is 987: True\n",
      "988 is 988: True\n",
      "989 is 989: True\n",
      "990 is 990: True\n",
      "991 is 991: True\n",
      "992 is 992: True\n",
      "993 is 993: True\n",
      "994 is 994: True\n",
      "995 is 995: True\n",
      "996 is 996: True\n",
      "997 is 997: True\n",
      "998 is 998: True\n",
      "999 is 999: True\n",
      "1000 is 1000: True\n",
      "1001 is 1001: True\n",
      "1002 is 1002: True\n",
      "1003 is 1003: True\n",
      "1004 is 1004: True\n",
      "1005 is 1005: True\n",
      "1006 is 1006: True\n",
      "1007 is 1007: True\n",
      "1008 is 1008: True\n",
      "1009 is 1009: True\n",
      "1010 is 1010: True\n",
      "1011 is 1011: True\n",
      "1012 is 1012: True\n",
      "1013 is 1013: True\n",
      "1014 is 1014: True\n",
      "1015 is 1015: True\n",
      "1016 is 1016: True\n",
      "1017 is 1017: True\n",
      "1018 is 1018: True\n",
      "1019 is 1019: True\n",
      "1020 is 1020: True\n",
      "1021 is 1021: True\n",
      "1022 is 1022: True\n",
      "1023 is 1023: True\n",
      "1024 is 1024: True\n",
      "1025 is 1025: True\n",
      "1026 is 1026: True\n",
      "1027 is 1027: True\n",
      "1028 is 1028: True\n",
      "1029 is 1029: True\n",
      "1030 is 1030: True\n",
      "1031 is 1031: True\n",
      "1032 is 1032: True\n",
      "1033 is 1033: True\n",
      "1034 is 1034: True\n",
      "1035 is 1035: True\n",
      "1036 is 1036: True\n",
      "1037 is 1037: True\n",
      "1038 is 1038: True\n",
      "1039 is 1039: True\n",
      "1040 is 1040: True\n",
      "1041 is 1041: True\n",
      "1042 is 1042: True\n",
      "1043 is 1043: True\n",
      "1044 is 1044: True\n",
      "1045 is 1045: True\n",
      "1046 is 1046: True\n",
      "1047 is 1047: True\n",
      "1048 is 1048: True\n",
      "1049 is 1049: True\n",
      "1050 is 1050: True\n",
      "1051 is 1051: True\n",
      "1052 is 1052: True\n",
      "1053 is 1053: True\n",
      "1054 is 1054: True\n",
      "1055 is 1055: True\n",
      "1056 is 1056: True\n",
      "1057 is 1057: True\n",
      "1058 is 1058: True\n",
      "1059 is 1059: True\n",
      "1060 is 1060: True\n",
      "1061 is 1061: True\n",
      "1062 is 1062: True\n",
      "1063 is 1063: True\n",
      "1064 is 1064: True\n",
      "1065 is 1065: True\n",
      "1066 is 1066: True\n",
      "1067 is 1067: True\n",
      "1068 is 1068: True\n",
      "1069 is 1069: True\n",
      "1070 is 1070: True\n",
      "1071 is 1071: True\n",
      "1072 is 1072: True\n",
      "1073 is 1073: True\n",
      "1074 is 1074: True\n",
      "1075 is 1075: True\n",
      "1076 is 1076: True\n",
      "1077 is 1077: True\n",
      "1078 is 1078: True\n",
      "1079 is 1079: True\n",
      "1080 is 1080: True\n",
      "1081 is 1081: True\n",
      "1082 is 1082: True\n",
      "1083 is 1083: True\n",
      "1084 is 1084: True\n",
      "1085 is 1085: True\n",
      "1086 is 1086: True\n",
      "1087 is 1087: True\n",
      "1088 is 1088: True\n",
      "1089 is 1089: True\n",
      "1090 is 1090: True\n",
      "1091 is 1091: True\n",
      "1092 is 1092: True\n",
      "1093 is 1093: True\n",
      "1094 is 1094: True\n",
      "1095 is 1095: True\n",
      "1096 is 1096: True\n",
      "1097 is 1097: True\n",
      "1098 is 1098: True\n",
      "1099 is 1099: True\n",
      "1100 is 1100: True\n",
      "1101 is 1101: True\n",
      "1102 is 1102: True\n",
      "1103 is 1103: True\n",
      "1104 is 1104: True\n",
      "1105 is 1105: True\n",
      "1106 is 1106: True\n",
      "1107 is 1107: True\n",
      "1108 is 1108: True\n",
      "1109 is 1109: True\n",
      "1110 is 1110: True\n",
      "1111 is 1111: True\n",
      "1112 is 1112: True\n",
      "1113 is 1113: True\n",
      "1114 is 1114: True\n",
      "1115 is 1115: True\n",
      "1116 is 1116: True\n",
      "1117 is 1117: True\n",
      "1118 is 1118: True\n",
      "1119 is 1119: True\n",
      "1120 is 1120: True\n",
      "1121 is 1121: True\n",
      "1122 is 1122: True\n",
      "1123 is 1123: True\n",
      "1124 is 1124: True\n",
      "1125 is 1125: True\n",
      "1126 is 1126: True\n",
      "1127 is 1127: True\n",
      "1128 is 1128: True\n",
      "1129 is 1129: True\n",
      "1130 is 1130: True\n",
      "1131 is 1131: True\n",
      "1132 is 1132: True\n",
      "1133 is 1133: True\n",
      "1134 is 1134: True\n",
      "1135 is 1135: True\n",
      "1136 is 1136: True\n",
      "1137 is 1137: True\n",
      "1138 is 1138: True\n",
      "1139 is 1139: True\n",
      "1140 is 1140: True\n",
      "1141 is 1141: True\n",
      "1142 is 1142: True\n",
      "1143 is 1143: True\n",
      "1144 is 1144: True\n",
      "1145 is 1145: True\n",
      "1146 is 1146: True\n",
      "1147 is 1147: True\n",
      "1148 is 1148: True\n",
      "1149 is 1149: True\n",
      "1150 is 1150: True\n",
      "1151 is 1151: True\n",
      "1152 is 1152: True\n",
      "1153 is 1153: True\n",
      "1154 is 1154: True\n",
      "1155 is 1155: True\n",
      "1156 is 1156: True\n",
      "1157 is 1157: True\n",
      "1158 is 1158: True\n",
      "1159 is 1159: True\n",
      "1160 is 1160: True\n",
      "1161 is 1161: True\n",
      "1162 is 1162: True\n",
      "1163 is 1163: True\n",
      "1164 is 1164: True\n",
      "1165 is 1165: True\n",
      "1166 is 1166: True\n",
      "1167 is 1167: True\n",
      "1168 is 1168: True\n",
      "1169 is 1169: True\n",
      "1170 is 1170: True\n",
      "1171 is 1171: True\n",
      "1172 is 1172: True\n",
      "1173 is 1173: True\n",
      "1174 is 1174: True\n",
      "1175 is 1175: True\n",
      "1176 is 1176: True\n",
      "1177 is 1177: True\n",
      "1178 is 1178: True\n",
      "1179 is 1179: True\n",
      "1180 is 1180: True\n",
      "1181 is 1181: True\n",
      "1182 is 1182: True\n",
      "1183 is 1183: True\n",
      "1184 is 1184: True\n",
      "1185 is 1185: True\n",
      "1186 is 1186: True\n",
      "1187 is 1187: True\n",
      "1188 is 1188: True\n",
      "1189 is 1189: True\n",
      "1190 is 1190: True\n",
      "1191 is 1191: True\n",
      "1192 is 1192: True\n",
      "1193 is 1193: True\n",
      "1194 is 1194: True\n",
      "1195 is 1195: True\n",
      "1196 is 1196: True\n",
      "1197 is 1197: True\n",
      "1198 is 1198: True\n",
      "1199 is 1199: True\n",
      "1200 is 1200: True\n",
      "1201 is 1201: True\n",
      "1202 is 1202: True\n",
      "1203 is 1203: True\n",
      "1204 is 1204: True\n",
      "1205 is 1205: True\n",
      "1206 is 1206: True\n",
      "1207 is 1207: True\n",
      "1208 is 1208: True\n",
      "1209 is 1209: True\n",
      "1210 is 1210: True\n",
      "1211 is 1211: True\n",
      "1212 is 1212: True\n",
      "1213 is 1213: True\n",
      "1214 is 1214: True\n",
      "1215 is 1215: True\n",
      "1216 is 1216: True\n",
      "1217 is 1217: True\n",
      "1218 is 1218: True\n",
      "1219 is 1219: True\n",
      "1220 is 1220: True\n",
      "1221 is 1221: True\n",
      "1222 is 1222: True\n",
      "1223 is 1223: True\n",
      "1224 is 1224: True\n",
      "1225 is 1225: True\n",
      "1226 is 1226: True\n",
      "1227 is 1227: True\n",
      "1228 is 1228: True\n",
      "1229 is 1229: True\n",
      "1230 is 1230: True\n",
      "1231 is 1231: True\n",
      "1232 is 1232: True\n",
      "1233 is 1233: True\n",
      "1234 is 1234: True\n",
      "1235 is 1235: True\n",
      "1236 is 1236: True\n",
      "1237 is 1237: True\n",
      "1238 is 1238: True\n",
      "1239 is 1239: True\n",
      "1240 is 1240: True\n",
      "1241 is 1241: True\n",
      "1242 is 1242: True\n",
      "1243 is 1243: True\n",
      "1244 is 1244: True\n",
      "1245 is 1245: True\n",
      "1246 is 1246: True\n",
      "1247 is 1247: True\n",
      "1248 is 1248: True\n",
      "1249 is 1249: True\n",
      "1250 is 1250: True\n",
      "1251 is 1251: True\n",
      "1252 is 1252: True\n",
      "1253 is 1253: True\n",
      "1254 is 1254: True\n"
     ]
    }
   ],
   "source": [
    "for i in range (-10, 1255):\n",
    "    a = i\n",
    "    b = i\n",
    "    print (f\"{a} is {b}: {a is b}\")"
   ]
  },
  {
   "cell_type": "code",
   "execution_count": 1,
   "metadata": {},
   "outputs": [],
   "source": [
    "import math"
   ]
  },
  {
   "cell_type": "code",
   "execution_count": 2,
   "metadata": {},
   "outputs": [
    {
     "name": "stdout",
     "output_type": "stream",
     "text": [
      "['__doc__', '__loader__', '__name__', '__package__', '__spec__', 'acos', 'acosh', 'asin', 'asinh', 'atan', 'atan2', 'atanh', 'ceil', 'comb', 'copysign', 'cos', 'cosh', 'degrees', 'dist', 'e', 'erf', 'erfc', 'exp', 'expm1', 'fabs', 'factorial', 'floor', 'fmod', 'frexp', 'fsum', 'gamma', 'gcd', 'hypot', 'inf', 'isclose', 'isfinite', 'isinf', 'isnan', 'isqrt', 'lcm', 'ldexp', 'lgamma', 'log', 'log10', 'log1p', 'log2', 'modf', 'nan', 'nextafter', 'perm', 'pi', 'pow', 'prod', 'radians', 'remainder', 'sin', 'sinh', 'sqrt', 'tan', 'tanh', 'tau', 'trunc', 'ulp']\n"
     ]
    }
   ],
   "source": [
    "print(dir(math))"
   ]
  },
  {
   "cell_type": "code",
   "execution_count": 3,
   "metadata": {},
   "outputs": [
    {
     "name": "stdout",
     "output_type": "stream",
     "text": [
      "__main__\n"
     ]
    }
   ],
   "source": [
    "print (__name__)"
   ]
  },
  {
   "cell_type": "code",
   "execution_count": 4,
   "metadata": {},
   "outputs": [
    {
     "ename": "SyntaxError",
     "evalue": "default 'except:' must be last (<ipython-input-4-46b18310dd49>, line 2)",
     "output_type": "error",
     "traceback": [
      "\u001b[1;36m  File \u001b[1;32m\"<ipython-input-4-46b18310dd49>\"\u001b[1;36m, line \u001b[1;32m2\u001b[0m\n\u001b[1;33m    raise Exception\u001b[0m\n\u001b[1;37m    ^\u001b[0m\n\u001b[1;31mSyntaxError\u001b[0m\u001b[1;31m:\u001b[0m default 'except:' must be last\n"
     ]
    }
   ],
   "source": [
    "try:\n",
    "    raise Exception\n",
    "except:\n",
    "    print (\"c\")\n",
    "except BaseException:\n",
    "    print (\"a\")\n",
    "except Exception:\n",
    "    print (\"b\")"
   ]
  },
  {
   "cell_type": "code",
   "execution_count": 5,
   "metadata": {},
   "outputs": [
    {
     "ename": "AttributeError",
     "evalue": "'A' object has no attribute '__a'",
     "output_type": "error",
     "traceback": [
      "\u001b[1;31m---------------------------------------------------------------------------\u001b[0m",
      "\u001b[1;31mAttributeError\u001b[0m                            Traceback (most recent call last)",
      "\u001b[1;32m<ipython-input-5-fe8ba35a93d0>\u001b[0m in \u001b[0;36m<module>\u001b[1;34m\u001b[0m\n\u001b[0;32m      3\u001b[0m         \u001b[0mself\u001b[0m\u001b[1;33m.\u001b[0m\u001b[0m__a\u001b[0m\u001b[1;33m=\u001b[0m\u001b[0mv\u001b[0m\u001b[1;33m+\u001b[0m\u001b[1;36m1\u001b[0m\u001b[1;33m\u001b[0m\u001b[1;33m\u001b[0m\u001b[0m\n\u001b[0;32m      4\u001b[0m \u001b[0ma\u001b[0m\u001b[1;33m=\u001b[0m\u001b[0mA\u001b[0m\u001b[1;33m(\u001b[0m\u001b[1;36m0\u001b[0m\u001b[1;33m)\u001b[0m\u001b[1;33m\u001b[0m\u001b[1;33m\u001b[0m\u001b[0m\n\u001b[1;32m----> 5\u001b[1;33m \u001b[0mprint\u001b[0m \u001b[1;33m(\u001b[0m\u001b[0ma\u001b[0m\u001b[1;33m.\u001b[0m\u001b[0m__a\u001b[0m\u001b[1;33m)\u001b[0m\u001b[1;33m\u001b[0m\u001b[1;33m\u001b[0m\u001b[0m\n\u001b[0m",
      "\u001b[1;31mAttributeError\u001b[0m: 'A' object has no attribute '__a'"
     ]
    }
   ],
   "source": [
    "class A:\n",
    "    def __init__(self, v):\n",
    "        self.__a=v+1\n",
    "a=A(0)\n",
    "print (a.__a)"
   ]
  },
  {
   "cell_type": "code",
   "execution_count": 6,
   "metadata": {},
   "outputs": [
    {
     "data": {
      "text/plain": [
       "{'_A__a': 1}"
      ]
     },
     "execution_count": 6,
     "metadata": {},
     "output_type": "execute_result"
    }
   ],
   "source": [
    "a.__dict__"
   ]
  },
  {
   "cell_type": "code",
   "execution_count": 7,
   "metadata": {},
   "outputs": [
    {
     "ename": "TypeError",
     "evalue": "__init__() takes 1 positional argument but 2 were given",
     "output_type": "error",
     "traceback": [
      "\u001b[1;31m---------------------------------------------------------------------------\u001b[0m",
      "\u001b[1;31mTypeError\u001b[0m                                 Traceback (most recent call last)",
      "\u001b[1;32m<ipython-input-7-e9f479e48e05>\u001b[0m in \u001b[0;36m<module>\u001b[1;34m\u001b[0m\n\u001b[0;32m      3\u001b[0m         \u001b[1;32mpass\u001b[0m\u001b[1;33m\u001b[0m\u001b[1;33m\u001b[0m\u001b[0m\n\u001b[0;32m      4\u001b[0m \u001b[1;33m\u001b[0m\u001b[0m\n\u001b[1;32m----> 5\u001b[1;33m \u001b[0ma\u001b[0m \u001b[1;33m=\u001b[0m \u001b[0mA\u001b[0m\u001b[1;33m(\u001b[0m\u001b[1;36m1\u001b[0m\u001b[1;33m)\u001b[0m\u001b[1;33m\u001b[0m\u001b[1;33m\u001b[0m\u001b[0m\n\u001b[0m",
      "\u001b[1;31mTypeError\u001b[0m: __init__() takes 1 positional argument but 2 were given"
     ]
    }
   ],
   "source": [
    "class A:\n",
    "    def __init__(self):\n",
    "        pass\n",
    "    \n",
    "a = A(1)\n"
   ]
  },
  {
   "cell_type": "code",
   "execution_count": 10,
   "metadata": {},
   "outputs": [
    {
     "name": "stdout",
     "output_type": "stream",
     "text": [
      "++-++++-"
     ]
    }
   ],
   "source": [
    "def I(n):\n",
    "    s = '+'\n",
    "    for i in range(n):\n",
    "        s += s\n",
    "        yield s\n",
    "        \n",
    "for x in I(2):\n",
    "    print (x, end=\"-\")"
   ]
  },
  {
   "cell_type": "code",
   "execution_count": 12,
   "metadata": {},
   "outputs": [
    {
     "name": "stdout",
     "output_type": "stream",
     "text": [
      "3\n"
     ]
    }
   ],
   "source": [
    "def f(par2, par1):\n",
    "    return par2 + par1\n",
    "\n",
    "print (f(1, par1=2))"
   ]
  },
  {
   "cell_type": "code",
   "execution_count": 13,
   "metadata": {},
   "outputs": [],
   "source": [
    "z=2\n",
    "y =1\n",
    "x=y<z or z>y and y>z or z<y"
   ]
  },
  {
   "cell_type": "code",
   "execution_count": 14,
   "metadata": {},
   "outputs": [
    {
     "data": {
      "text/plain": [
       "True"
      ]
     },
     "execution_count": 14,
     "metadata": {},
     "output_type": "execute_result"
    }
   ],
   "source": [
    "x"
   ]
  },
  {
   "cell_type": "code",
   "execution_count": 15,
   "metadata": {},
   "outputs": [
    {
     "ename": "TypeError",
     "evalue": "'str' object doesn't support item deletion",
     "output_type": "error",
     "traceback": [
      "\u001b[1;31m---------------------------------------------------------------------------\u001b[0m",
      "\u001b[1;31mTypeError\u001b[0m                                 Traceback (most recent call last)",
      "\u001b[1;32m<ipython-input-15-39bd812a48b9>\u001b[0m in \u001b[0;36m<module>\u001b[1;34m\u001b[0m\n\u001b[0;32m      1\u001b[0m \u001b[0mstr\u001b[0m\u001b[1;33m=\u001b[0m\u001b[1;34m'abcdef'\u001b[0m\u001b[1;33m\u001b[0m\u001b[1;33m\u001b[0m\u001b[0m\n\u001b[1;32m----> 2\u001b[1;33m \u001b[1;32mdel\u001b[0m \u001b[0mstr\u001b[0m\u001b[1;33m[\u001b[0m\u001b[1;36m2\u001b[0m\u001b[1;33m]\u001b[0m\u001b[1;33m\u001b[0m\u001b[1;33m\u001b[0m\u001b[0m\n\u001b[0m",
      "\u001b[1;31mTypeError\u001b[0m: 'str' object doesn't support item deletion"
     ]
    }
   ],
   "source": [
    "str='abcdef'\n",
    "del str[2]"
   ]
  },
  {
   "cell_type": "code",
   "execution_count": 17,
   "metadata": {},
   "outputs": [
    {
     "ename": "TypeError",
     "evalue": "object of type 'int' has no len()",
     "output_type": "error",
     "traceback": [
      "\u001b[1;31m---------------------------------------------------------------------------\u001b[0m",
      "\u001b[1;31mTypeError\u001b[0m                                 Traceback (most recent call last)",
      "\u001b[1;32m<ipython-input-17-398649d0036a>\u001b[0m in \u001b[0;36m<module>\u001b[1;34m\u001b[0m\n\u001b[1;32m----> 1\u001b[1;33m \u001b[0mprint\u001b[0m \u001b[1;33m(\u001b[0m\u001b[0mlen\u001b[0m\u001b[1;33m(\u001b[0m\u001b[1;36m1\u001b[0m\u001b[1;33m,\u001b[0m\u001b[1;33m)\u001b[0m\u001b[1;33m)\u001b[0m\u001b[1;33m\u001b[0m\u001b[1;33m\u001b[0m\u001b[0m\n\u001b[0m",
      "\u001b[1;31mTypeError\u001b[0m: object of type 'int' has no len()"
     ]
    }
   ],
   "source": [
    "print (len(1,))"
   ]
  },
  {
   "cell_type": "code",
   "execution_count": 18,
   "metadata": {},
   "outputs": [
    {
     "name": "stdout",
     "output_type": "stream",
     "text": [
      "a''b''c\n"
     ]
    }
   ],
   "source": [
    "print (\"a\", \"b\", \"c\", sep=\"''\")"
   ]
  },
  {
   "cell_type": "code",
   "execution_count": 19,
   "metadata": {},
   "outputs": [],
   "source": [
    "t=(1, )"
   ]
  },
  {
   "cell_type": "code",
   "execution_count": 20,
   "metadata": {},
   "outputs": [
    {
     "data": {
      "text/plain": [
       "(1,)"
      ]
     },
     "execution_count": 20,
     "metadata": {},
     "output_type": "execute_result"
    }
   ],
   "source": [
    "t"
   ]
  },
  {
   "cell_type": "code",
   "execution_count": 21,
   "metadata": {},
   "outputs": [
    {
     "data": {
      "text/plain": [
       "1"
      ]
     },
     "execution_count": 21,
     "metadata": {},
     "output_type": "execute_result"
    }
   ],
   "source": [
    "t[0]"
   ]
  },
  {
   "cell_type": "code",
   "execution_count": 22,
   "metadata": {},
   "outputs": [
    {
     "data": {
      "text/plain": [
       "range(0, -2)"
      ]
     },
     "execution_count": 22,
     "metadata": {},
     "output_type": "execute_result"
    }
   ],
   "source": [
    "range (0, -2)"
   ]
  },
  {
   "cell_type": "code",
   "execution_count": 23,
   "metadata": {},
   "outputs": [],
   "source": [
    "a = range(0, -2)"
   ]
  },
  {
   "cell_type": "code",
   "execution_count": 24,
   "metadata": {},
   "outputs": [
    {
     "data": {
      "text/plain": [
       "range(0, -2)"
      ]
     },
     "execution_count": 24,
     "metadata": {},
     "output_type": "execute_result"
    }
   ],
   "source": [
    "a"
   ]
  },
  {
   "cell_type": "code",
   "execution_count": 26,
   "metadata": {},
   "outputs": [],
   "source": [
    "for i in range (0, -2):\n",
    "    print (i)"
   ]
  },
  {
   "cell_type": "code",
   "execution_count": 27,
   "metadata": {},
   "outputs": [
    {
     "data": {
      "text/plain": [
       "(3,)"
      ]
     },
     "execution_count": 27,
     "metadata": {},
     "output_type": "execute_result"
    }
   ],
   "source": [
    "t=(1, 2, 3, 4)\n",
    "t[-2:-1]"
   ]
  },
  {
   "cell_type": "code",
   "execution_count": 28,
   "metadata": {},
   "outputs": [],
   "source": [
    "t=t[-2:-1]"
   ]
  },
  {
   "cell_type": "code",
   "execution_count": 29,
   "metadata": {},
   "outputs": [
    {
     "data": {
      "text/plain": [
       "(3,)"
      ]
     },
     "execution_count": 29,
     "metadata": {},
     "output_type": "execute_result"
    }
   ],
   "source": [
    "t"
   ]
  },
  {
   "cell_type": "code",
   "execution_count": 30,
   "metadata": {},
   "outputs": [
    {
     "data": {
      "text/plain": [
       "3"
      ]
     },
     "execution_count": 30,
     "metadata": {},
     "output_type": "execute_result"
    }
   ],
   "source": [
    "t[-1]"
   ]
  },
  {
   "cell_type": "code",
   "execution_count": 31,
   "metadata": {},
   "outputs": [],
   "source": [
    "a=(1, 2, 3, 4, 5)"
   ]
  },
  {
   "cell_type": "code",
   "execution_count": 36,
   "metadata": {},
   "outputs": [
    {
     "data": {
      "text/plain": [
       "(4,)"
      ]
     },
     "execution_count": 36,
     "metadata": {},
     "output_type": "execute_result"
    }
   ],
   "source": [
    "a[-2:-1]"
   ]
  },
  {
   "cell_type": "code",
   "execution_count": 37,
   "metadata": {},
   "outputs": [
    {
     "name": "stdout",
     "output_type": "stream",
     "text": [
      "None\n"
     ]
    }
   ],
   "source": [
    "def fun(d, k, v):\n",
    "    d[k]=v\n",
    "\n",
    "dc ={}\n",
    "print(fun(dc, '1', 'v'))"
   ]
  },
  {
   "cell_type": "code",
   "execution_count": 38,
   "metadata": {},
   "outputs": [
    {
     "data": {
      "text/plain": [
       "'v'"
      ]
     },
     "execution_count": 38,
     "metadata": {},
     "output_type": "execute_result"
    }
   ],
   "source": [
    "dc['1']"
   ]
  },
  {
   "cell_type": "code",
   "execution_count": 40,
   "metadata": {},
   "outputs": [],
   "source": [
    "ls=[[c for c in range(r)] for r in range(3)]"
   ]
  },
  {
   "cell_type": "code",
   "execution_count": 41,
   "metadata": {},
   "outputs": [
    {
     "data": {
      "text/plain": [
       "[[], [0], [0, 1]]"
      ]
     },
     "execution_count": 41,
     "metadata": {},
     "output_type": "execute_result"
    }
   ],
   "source": [
    "ls"
   ]
  },
  {
   "cell_type": "code",
   "execution_count": 42,
   "metadata": {},
   "outputs": [
    {
     "name": "stdout",
     "output_type": "stream",
     "text": [
      "1\n"
     ]
    }
   ],
   "source": [
    "class A:\n",
    "    def __init__(self, v):\n",
    "        self._a=v+1\n",
    "        \n",
    "a = A(0)\n",
    "print(a._a)"
   ]
  },
  {
   "cell_type": "code",
   "execution_count": 43,
   "metadata": {},
   "outputs": [],
   "source": [
    "class A:\n",
    "    def __init__(self):\n",
    "        pass\n",
    "    def f(self):\n",
    "        return 1\n",
    "    def g():\n",
    "        return self.f()\n",
    "    \n",
    "a= A()"
   ]
  },
  {
   "cell_type": "code",
   "execution_count": 44,
   "metadata": {},
   "outputs": [
    {
     "ename": "TypeError",
     "evalue": "g() takes 0 positional arguments but 1 was given",
     "output_type": "error",
     "traceback": [
      "\u001b[1;31m---------------------------------------------------------------------------\u001b[0m",
      "\u001b[1;31mTypeError\u001b[0m                                 Traceback (most recent call last)",
      "\u001b[1;32m<ipython-input-44-88ae7207a0e4>\u001b[0m in \u001b[0;36m<module>\u001b[1;34m\u001b[0m\n\u001b[1;32m----> 1\u001b[1;33m \u001b[0ma\u001b[0m\u001b[1;33m.\u001b[0m\u001b[0mg\u001b[0m\u001b[1;33m(\u001b[0m\u001b[1;33m)\u001b[0m\u001b[1;33m\u001b[0m\u001b[1;33m\u001b[0m\u001b[0m\n\u001b[0m",
      "\u001b[1;31mTypeError\u001b[0m: g() takes 0 positional arguments but 1 was given"
     ]
    }
   ],
   "source": [
    "a.g()"
   ]
  },
  {
   "cell_type": "code",
   "execution_count": 45,
   "metadata": {},
   "outputs": [
    {
     "ename": "NameError",
     "evalue": "name 'self' is not defined",
     "output_type": "error",
     "traceback": [
      "\u001b[1;31m---------------------------------------------------------------------------\u001b[0m",
      "\u001b[1;31mNameError\u001b[0m                                 Traceback (most recent call last)",
      "\u001b[1;32m<ipython-input-45-357a02b07fd8>\u001b[0m in \u001b[0;36m<module>\u001b[1;34m\u001b[0m\n\u001b[1;32m----> 1\u001b[1;33m \u001b[0mA\u001b[0m\u001b[1;33m.\u001b[0m\u001b[0mg\u001b[0m\u001b[1;33m(\u001b[0m\u001b[1;33m)\u001b[0m\u001b[1;33m\u001b[0m\u001b[1;33m\u001b[0m\u001b[0m\n\u001b[0m",
      "\u001b[1;32m<ipython-input-43-5575de31f783>\u001b[0m in \u001b[0;36mg\u001b[1;34m()\u001b[0m\n\u001b[0;32m      5\u001b[0m         \u001b[1;32mreturn\u001b[0m \u001b[1;36m1\u001b[0m\u001b[1;33m\u001b[0m\u001b[1;33m\u001b[0m\u001b[0m\n\u001b[0;32m      6\u001b[0m     \u001b[1;32mdef\u001b[0m \u001b[0mg\u001b[0m\u001b[1;33m(\u001b[0m\u001b[1;33m)\u001b[0m\u001b[1;33m:\u001b[0m\u001b[1;33m\u001b[0m\u001b[1;33m\u001b[0m\u001b[0m\n\u001b[1;32m----> 7\u001b[1;33m         \u001b[1;32mreturn\u001b[0m \u001b[0mself\u001b[0m\u001b[1;33m.\u001b[0m\u001b[0mf\u001b[0m\u001b[1;33m(\u001b[0m\u001b[1;33m)\u001b[0m\u001b[1;33m\u001b[0m\u001b[1;33m\u001b[0m\u001b[0m\n\u001b[0m\u001b[0;32m      8\u001b[0m \u001b[1;33m\u001b[0m\u001b[0m\n\u001b[0;32m      9\u001b[0m \u001b[0ma\u001b[0m\u001b[1;33m=\u001b[0m \u001b[0mA\u001b[0m\u001b[1;33m(\u001b[0m\u001b[1;33m)\u001b[0m\u001b[1;33m\u001b[0m\u001b[1;33m\u001b[0m\u001b[0m\n",
      "\u001b[1;31mNameError\u001b[0m: name 'self' is not defined"
     ]
    }
   ],
   "source": [
    "A.g()"
   ]
  },
  {
   "cell_type": "code",
   "execution_count": null,
   "metadata": {},
   "outputs": [],
   "source": []
  }
 ],
 "metadata": {
  "kernelspec": {
   "display_name": "Python 3",
   "language": "python",
   "name": "python3"
  },
  "language_info": {
   "codemirror_mode": {
    "name": "ipython",
    "version": 3
   },
   "file_extension": ".py",
   "mimetype": "text/x-python",
   "name": "python",
   "nbconvert_exporter": "python",
   "pygments_lexer": "ipython3",
   "version": "3.9.0"
  }
 },
 "nbformat": 4,
 "nbformat_minor": 4
}
