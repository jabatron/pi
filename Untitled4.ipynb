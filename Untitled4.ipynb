{
 "cells": [
  {
   "cell_type": "code",
<<<<<<< HEAD
   "execution_count": 4,
   "metadata": {},
   "outputs": [
    {
     "name": "stdout",
     "output_type": "stream",
     "text": [
      "<class 'ZeroDivisionError'>\n",
      "('division by zero',)\n"
     ]
    }
   ],
   "source": [
    "try:\n",
    "    a = 1/0\n",
    "except Exception as e:\n",
    "    print (type (e))\n",
    "    print (e.args)\n",
    "    "
=======
<<<<<<< HEAD
   "execution_count": 1,
   "metadata": {},
   "outputs": [],
   "source": [
    "import glob"
>>>>>>> 2212996fcd79306adccac8ea00ff63e22deb3713
   ]
  },
  {
   "cell_type": "code",
<<<<<<< HEAD
   "execution_count": 9,
   "metadata": {},
   "outputs": [
    {
     "name": "stdout",
     "output_type": "stream",
     "text": [
      "a\n",
      "__init__\n",
      "b\n",
      "__iter__\n",
      "__next__\n",
      "c\n",
      "1\n",
      "__next__\n",
      "c\n",
      "1\n",
      "__next__\n",
      "c\n",
      "2\n",
      "__next__\n",
      "c\n",
      "3\n",
      "__next__\n",
      "c\n",
      "5\n",
      "__next__\n"
     ]
    }
   ],
   "source": [
    "class Fib:\n",
    "\tdef __init__(self, nn):\n",
    "\t\tprint(\"__init__\")\n",
    "\t\tself.__n = nn\n",
    "\t\tself.__i = 0\n",
    "\t\tself.__p1 = self.__p2 = 1\n",
    "\n",
    "\tdef __iter__(self):\n",
    "\t\tprint(\"__iter__\")\t\t\n",
    "\t\treturn self\n",
    "\n",
    "\tdef __next__(self):\n",
    "\t\tprint(\"__next__\")\t\t\t\t\n",
    "\t\tself.__i += 1\n",
    "\t\tif self.__i > self.__n:\n",
    "\t\t\traise StopIteration\n",
    "\t\tif self.__i in [1, 2]:\n",
    "\t\t\treturn 1\n",
    "\t\tret = self.__p1 + self.__p2\n",
    "\t\tself.__p1, self.__p2 = self.__p2, ret\n",
    "\t\treturn ret\n",
    "\n",
    "print (\"a\")\n",
    "f = Fib (5)\n",
    "print (\"b\")\n",
    "    \n",
    "for i in f:\n",
    "    print (\"c\")\n",
    "    print (i)"
=======
   "execution_count": 13,
   "metadata": {},
   "outputs": [],
   "source": [
    "files=glob.glob(\"*copia.ipynb\")"
>>>>>>> 2212996fcd79306adccac8ea00ff63e22deb3713
   ]
  },
  {
   "cell_type": "code",
<<<<<<< HEAD
   "execution_count": 10,
=======
   "execution_count": 14,
>>>>>>> 2212996fcd79306adccac8ea00ff63e22deb3713
   "metadata": {},
   "outputs": [
    {
     "name": "stdout",
     "output_type": "stream",
     "text": [
<<<<<<< HEAD
      "Class iter\n",
      "1\n",
      "1\n",
      "2\n",
      "3\n",
      "5\n",
      "8\n",
      "13\n",
      "21\n"
=======
      "['Untitled - copia.ipynb', 'Untitled1 - copia.ipynb', 'Untitled2 - copia.ipynb', 'Untitled3 - copia.ipynb', 'Untitled4 - copia.ipynb']\n"
>>>>>>> 2212996fcd79306adccac8ea00ff63e22deb3713
     ]
    }
   ],
   "source": [
<<<<<<< HEAD
    "class Fib:\n",
    "\tdef __init__(self, nn):\n",
    "\t\tself.__n = nn\n",
    "\t\tself.__i = 0\n",
    "\t\tself.__p1 = self.__p2 = 1\n",
    "\n",
    "\tdef __iter__(self):\n",
    "\t\tprint(\"Fib iter\")\n",
    "\t\treturn self\n",
    "\n",
    "\tdef __next__(self):\n",
    "\t\tself.__i += 1\n",
    "\t\tif self.__i > self.__n:\n",
    "\t\t\traise StopIteration\n",
    "\t\tif self.__i in [1, 2]:\n",
    "\t\t\treturn 1\n",
    "\t\tret = self.__p1 + self.__p2\n",
    "\t\tself.__p1, self.__p2 = self.__p2, ret\n",
    "\t\treturn ret\n",
    "\n",
    "class Class:\n",
    "\tdef __init__(self, n):\n",
    "\t\tself.__iter = Fib(n)\n",
    "\n",
    "\tdef __iter__(self):\n",
    "\t\tprint(\"Class iter\")\n",
    "\t\treturn self.__iter;\n",
    "\n",
    "object = Class(8)\n",
    "\n",
    "for i in object:\n",
    "\tprint(i)"
=======
    "print (files)\n"
>>>>>>> 2212996fcd79306adccac8ea00ff63e22deb3713
   ]
  },
  {
   "cell_type": "code",
<<<<<<< HEAD
   "execution_count": 12,
   "metadata": {},
   "outputs": [
    {
     "name": "stdout",
     "output_type": "stream",
     "text": [
      "comenzamos\n",
      "1\n",
      "2\n",
      "4\n",
      "8\n",
      "16\n",
      "32\n",
      "64\n",
      "128\n",
      "terminamos\n"
     ]
    }
   ],
   "source": [
    "def potenciasDe2(n):\n",
    "    potencia = 1\n",
    "    print (\"comenzamos\")\n",
    "    for i in range(n):\n",
    "        yield potencia\n",
    "        potencia *= 2\n",
    "    print (\"terminamos\")\n",
    "\n",
    "for v in potenciasDe2(8):\n",
    "    print(v)"
=======
   "execution_count": 15,
   "metadata": {},
   "outputs": [],
   "source": [
    "import os"
>>>>>>> 2212996fcd79306adccac8ea00ff63e22deb3713
   ]
  },
  {
   "cell_type": "code",
<<<<<<< HEAD
   "execution_count": 13,
   "metadata": {},
   "outputs": [
    {
     "name": "stdout",
     "output_type": "stream",
     "text": [
      "1\n",
      "2\n",
      "4\n",
      "8\n"
=======
   "execution_count": 17,
   "metadata": {},
   "outputs": [
    {
     "ename": "FileNotFoundError",
     "evalue": "[WinError 2] El sistema no puede encontrar el archivo especificado: 'Untitled - copia.ipynb'",
     "output_type": "error",
     "traceback": [
      "\u001b[1;31m---------------------------------------------------------------------------\u001b[0m",
      "\u001b[1;31mFileNotFoundError\u001b[0m                         Traceback (most recent call last)",
      "\u001b[1;32m<ipython-input-17-06859dae0cb8>\u001b[0m in \u001b[0;36m<module>\u001b[1;34m\u001b[0m\n\u001b[0;32m      1\u001b[0m \u001b[1;32mfor\u001b[0m \u001b[0mi\u001b[0m \u001b[1;32min\u001b[0m \u001b[0mfiles\u001b[0m\u001b[1;33m:\u001b[0m\u001b[1;33m\u001b[0m\u001b[1;33m\u001b[0m\u001b[0m\n\u001b[1;32m----> 2\u001b[1;33m     \u001b[0mos\u001b[0m\u001b[1;33m.\u001b[0m\u001b[0mremove\u001b[0m\u001b[1;33m(\u001b[0m\u001b[0mi\u001b[0m\u001b[1;33m)\u001b[0m\u001b[1;33m\u001b[0m\u001b[1;33m\u001b[0m\u001b[0m\n\u001b[0m\u001b[0;32m      3\u001b[0m \u001b[1;33m\u001b[0m\u001b[0m\n",
      "\u001b[1;31mFileNotFoundError\u001b[0m: [WinError 2] El sistema no puede encontrar el archivo especificado: 'Untitled - copia.ipynb'"
>>>>>>> 2212996fcd79306adccac8ea00ff63e22deb3713
     ]
    }
   ],
   "source": [
<<<<<<< HEAD
    "def potenciasDe2(n):\n",
    "    potencia= 1\n",
    "    for i in range(n):\n",
    "        yield potencia\n",
    "        potencia*= 2\n",
    "\n",
    "for i in range(20):\n",
    "    if i in potenciasDe2(4):\n",
    "        print(i)"
=======
    "for i in files:\n",
    "    os.remove(i)\n",
    "    "
>>>>>>> 2212996fcd79306adccac8ea00ff63e22deb3713
   ]
  },
  {
   "cell_type": "code",
<<<<<<< HEAD
   "execution_count": 14,
   "metadata": {},
   "outputs": [
    {
     "name": "stdout",
     "output_type": "stream",
     "text": [
      "[1, 1, 2, 3, 5, 8, 13, 21, 34, 55]\n"
     ]
    }
   ],
   "source": [
    "def Fib(n):\n",
    "    p = pp = 1\n",
    "    for i in range(n):\n",
    "        if i in [0, 1]:\n",
    "            yield 1\n",
    "        else:\n",
    "            n = p + pp\n",
    "            pp, p = p, n\n",
    "            yield n\n",
    "\n",
    "fibs = list(Fib(10))\n",
    "\n",
    "print(fibs)"
=======
   "execution_count": 18,
   "metadata": {},
   "outputs": [
    {
     "data": {
      "text/plain": [
       "'ja'"
      ]
     },
     "execution_count": 18,
     "metadata": {},
     "output_type": "execute_result"
    }
   ],
   "source": [
    "os.getlogin()"
>>>>>>> 2212996fcd79306adccac8ea00ff63e22deb3713
   ]
  },
  {
   "cell_type": "code",
<<<<<<< HEAD
   "execution_count": 15,
   "metadata": {},
   "outputs": [],
   "source": [
    "fibs2 = [f for f in Fib(11)]"
=======
   "execution_count": 19,
   "metadata": {},
   "outputs": [],
   "source": [
    "import platform"
>>>>>>> 2212996fcd79306adccac8ea00ff63e22deb3713
   ]
  },
  {
   "cell_type": "code",
<<<<<<< HEAD
   "execution_count": 16,
=======
   "execution_count": 20,
>>>>>>> 2212996fcd79306adccac8ea00ff63e22deb3713
   "metadata": {},
   "outputs": [
    {
     "data": {
      "text/plain": [
<<<<<<< HEAD
       "[1, 1, 2, 3, 5, 8, 13, 21, 34, 55, 89]"
      ]
     },
     "execution_count": 16,
=======
       "('64bit', 'WindowsPE')"
      ]
     },
     "execution_count": 20,
>>>>>>> 2212996fcd79306adccac8ea00ff63e22deb3713
     "metadata": {},
     "output_type": "execute_result"
    }
   ],
   "source": [
<<<<<<< HEAD
    "fibs2\n"
=======
    "platform.architecture()"
>>>>>>> 2212996fcd79306adccac8ea00ff63e22deb3713
   ]
  },
  {
   "cell_type": "code",
<<<<<<< HEAD
   "execution_count": 17,
=======
   "execution_count": 22,
>>>>>>> 2212996fcd79306adccac8ea00ff63e22deb3713
   "metadata": {},
   "outputs": [
    {
     "data": {
      "text/plain": [
<<<<<<< HEAD
       "[0, 1, 0, 1, 0, 1, 0, 1, 0, 1, 0, 1, 0, 1, 0, 1, 0, 1, 0, 1]"
      ]
     },
     "execution_count": 17,
=======
       "<module 'collections' from 'c:\\\\program files\\\\python39\\\\lib\\\\collections\\\\__init__.py'>"
      ]
     },
     "execution_count": 22,
>>>>>>> 2212996fcd79306adccac8ea00ff63e22deb3713
     "metadata": {},
     "output_type": "execute_result"
    }
   ],
   "source": [
<<<<<<< HEAD
    "[0 if x%2==0 else 1 for x in range(20)]"
=======
    "platform.collections"
>>>>>>> 2212996fcd79306adccac8ea00ff63e22deb3713
   ]
  },
  {
   "cell_type": "code",
<<<<<<< HEAD
   "execution_count": 18,
   "metadata": {},
   "outputs": [
    {
     "name": "stdout",
     "output_type": "stream",
     "text": [
      "1 0 1 0 1 0 1 0 1 0 \n",
      "1 0 1 0 1 0 1 0 1 0 \n"
     ]
    }
   ],
   "source": [
    "lst = [1 if x % 2 == 0 else 0 for x in range(10)]\n",
    "genr = (1 if x % 2 == 0 else 0 for x in range(10))\n",
    "\n",
    "for v in lst:\n",
    "    print(v, end=\" \")\n",
    "print()\n",
    "\n",
    "for v in genr:\n",
    "    print(v, end=\" \")\n",
    "print()"
=======
   "execution_count": 23,
   "metadata": {},
   "outputs": [
    {
     "data": {
      "text/plain": [
       "'AMD64'"
      ]
     },
     "execution_count": 23,
     "metadata": {},
     "output_type": "execute_result"
    }
   ],
   "source": [
    "platform.machine()"
>>>>>>> 2212996fcd79306adccac8ea00ff63e22deb3713
   ]
  },
  {
   "cell_type": "code",
<<<<<<< HEAD
   "execution_count": 19,
=======
   "execution_count": 26,
>>>>>>> 2212996fcd79306adccac8ea00ff63e22deb3713
   "metadata": {},
   "outputs": [
    {
     "data": {
      "text/plain": [
<<<<<<< HEAD
       "10"
      ]
     },
     "execution_count": 19,
=======
       "'Intel64 Family 6 Model 78 Stepping 3, GenuineIntel'"
      ]
     },
     "execution_count": 26,
>>>>>>> 2212996fcd79306adccac8ea00ff63e22deb3713
     "metadata": {},
     "output_type": "execute_result"
    }
   ],
   "source": [
<<<<<<< HEAD
    "len(lst)"
=======
    "platform.processor()"
>>>>>>> 2212996fcd79306adccac8ea00ff63e22deb3713
   ]
  },
  {
   "cell_type": "code",
<<<<<<< HEAD
   "execution_count": 20,
   "metadata": {},
   "outputs": [
    {
     "ename": "TypeError",
     "evalue": "object of type 'generator' has no len()",
     "output_type": "error",
     "traceback": [
      "\u001b[0;31m---------------------------------------------------------------------------\u001b[0m",
      "\u001b[0;31mTypeError\u001b[0m                                 Traceback (most recent call last)",
      "\u001b[0;32m<ipython-input-20-0059919baa0e>\u001b[0m in \u001b[0;36m<module>\u001b[0;34m\u001b[0m\n\u001b[0;32m----> 1\u001b[0;31m \u001b[0mlen\u001b[0m\u001b[0;34m(\u001b[0m\u001b[0mgenr\u001b[0m\u001b[0;34m)\u001b[0m\u001b[0;34m\u001b[0m\u001b[0;34m\u001b[0m\u001b[0m\n\u001b[0m",
      "\u001b[0;31mTypeError\u001b[0m: object of type 'generator' has no len()"
     ]
    }
   ],
   "source": [
    "len(genr)"
=======
   "execution_count": 27,
   "metadata": {},
   "outputs": [
    {
     "data": {
      "text/plain": [
       "'10'"
      ]
     },
     "execution_count": 27,
     "metadata": {},
     "output_type": "execute_result"
    }
   ],
   "source": [
    "platform.release()"
>>>>>>> 2212996fcd79306adccac8ea00ff63e22deb3713
   ]
  },
  {
   "cell_type": "code",
<<<<<<< HEAD
   "execution_count": 21,
=======
   "execution_count": 28,
>>>>>>> 2212996fcd79306adccac8ea00ff63e22deb3713
   "metadata": {},
   "outputs": [
    {
     "data": {
      "text/plain": [
<<<<<<< HEAD
       "list"
      ]
     },
     "execution_count": 21,
=======
       "'Windows'"
      ]
     },
     "execution_count": 28,
>>>>>>> 2212996fcd79306adccac8ea00ff63e22deb3713
     "metadata": {},
     "output_type": "execute_result"
    }
   ],
   "source": [
<<<<<<< HEAD
    "type(lst)"
=======
    "platform.system()"
>>>>>>> 2212996fcd79306adccac8ea00ff63e22deb3713
   ]
  },
  {
   "cell_type": "code",
<<<<<<< HEAD
   "execution_count": 22,
=======
   "execution_count": 29,
>>>>>>> 2212996fcd79306adccac8ea00ff63e22deb3713
   "metadata": {},
   "outputs": [
    {
     "data": {
      "text/plain": [
<<<<<<< HEAD
       "generator"
      ]
     },
     "execution_count": 22,
=======
       "uname_result(system='Windows', node='jaba840', release='10', version='10.0.19041', machine='AMD64')"
      ]
     },
     "execution_count": 29,
>>>>>>> 2212996fcd79306adccac8ea00ff63e22deb3713
     "metadata": {},
     "output_type": "execute_result"
    }
   ],
   "source": [
<<<<<<< HEAD
    "type(genr)"
=======
    "platform.uname()\n"
>>>>>>> 2212996fcd79306adccac8ea00ff63e22deb3713
   ]
  },
  {
   "cell_type": "code",
<<<<<<< HEAD
   "execution_count": 23,
   "metadata": {},
   "outputs": [
    {
     "name": "stdout",
     "output_type": "stream",
     "text": [
      "3\n"
     ]
    }
   ],
   "source": [
    "def exterior(par):\n",
    "\tloc = par*3\n",
    "\tdef interior():\n",
    "\t\treturn loc\n",
    "\treturn interior\n",
    "\n",
    "var = 1\n",
    "fun = exterior(var)\n",
    "print(fun())"
=======
   "execution_count": 39,
   "metadata": {},
   "outputs": [],
   "source": [
    "import platform\n",
    "def basic_info():\n",
    "    usuario = os.getlogin()\n",
    "    usistema = platform.uname()\n",
    "    sistema = f\"SO: {usistema[0]}, version {usistema[2]} ({usistema[3]})\"\n",
    "    equipo = f\"Nombre del equipo: {usistema[1]}\"\n",
    "    print (f\"Ha iniciado sesión con el usuario {usuario}\")\n",
    "    print (sistema)\n",
    "    print (equipo)"
>>>>>>> 2212996fcd79306adccac8ea00ff63e22deb3713
   ]
  },
  {
   "cell_type": "code",
<<<<<<< HEAD
   "execution_count": 24,
=======
   "execution_count": 40,
>>>>>>> 2212996fcd79306adccac8ea00ff63e22deb3713
   "metadata": {},
   "outputs": [
    {
     "name": "stdout",
     "output_type": "stream",
     "text": [
<<<<<<< HEAD
      "0 0 0\n",
      "1 1 1\n",
      "2 4 8\n",
      "3 9 27\n",
      "4 16 64\n"
=======
      "Ha iniciado sesión con el usuario ja\n",
      "SO: Windows, version 10(10.0.19041)\n",
      "Nombre del equipo: jaba840\n"
>>>>>>> 2212996fcd79306adccac8ea00ff63e22deb3713
     ]
    }
   ],
   "source": [
<<<<<<< HEAD
    "def crearcierre(loc):\n",
    "\t\n",
    "\tdef potencia(p):\n",
    "\t\treturn p ** loc\n",
    "\treturn potencia\n",
    "\n",
    "fsqr = crearcierre(2)\n",
    "fcub = crearcierre(3)\n",
    "for i in range(5):\n",
    "\tprint(i, fsqr(i), fcub(i))"
=======
    "basic_info()"
>>>>>>> 2212996fcd79306adccac8ea00ff63e22deb3713
   ]
  },
  {
   "cell_type": "code",
<<<<<<< HEAD
   "execution_count": 59,
   "metadata": {},
   "outputs": [],
   "source": [
    "from os import strerror\n",
    "try:\n",
    "    file=open(\"../.bashrc\", \"rt\")\n",
    "except Exception as e:\n",
    "    print (e, strerror(e.errno))"
   ]
  },
  {
   "cell_type": "code",
   "execution_count": 65,
   "metadata": {},
   "outputs": [
    {
     "name": "stdout",
     "output_type": "stream",
     "text": [
      "/usr/share\n"
=======
   "execution_count": 41,
   "metadata": {},
   "outputs": [
    {
     "ename": "ModuleNotFoundError",
     "evalue": "No module named 'psutil'",
     "output_type": "error",
     "traceback": [
      "\u001b[1;31m---------------------------------------------------------------------------\u001b[0m",
      "\u001b[1;31mModuleNotFoundError\u001b[0m                       Traceback (most recent call last)",
      "\u001b[1;32m<ipython-input-41-c65883a53318>\u001b[0m in \u001b[0;36m<module>\u001b[1;34m\u001b[0m\n\u001b[1;32m----> 1\u001b[1;33m \u001b[1;32mfrom\u001b[0m \u001b[0mpsutil\u001b[0m \u001b[1;32mimport\u001b[0m \u001b[0mvirtual_memory\u001b[0m\u001b[1;33m\u001b[0m\u001b[1;33m\u001b[0m\u001b[0m\n\u001b[0m",
      "\u001b[1;31mModuleNotFoundError\u001b[0m: No module named 'psutil'"
>>>>>>> 2212996fcd79306adccac8ea00ff63e22deb3713
     ]
    }
   ],
   "source": [
<<<<<<< HEAD
    "lines=file.readline(10)\n",
    "print (lines)"
   ]
  },
  {
   "cell_type": "code",
   "execution_count": 66,
   "metadata": {},
   "outputs": [],
   "source": [
    "data=bytearray(10)"
=======
    "from psutil import virtual_memory\n"
>>>>>>> 2212996fcd79306adccac8ea00ff63e22deb3713
   ]
  },
  {
   "cell_type": "code",
<<<<<<< HEAD
   "execution_count": 67,
   "metadata": {},
   "outputs": [],
   "source": [
    "data[5]=56"
   ]
  },
  {
   "cell_type": "code",
   "execution_count": 73,
   "metadata": {},
   "outputs": [],
   "source": [
    "data[0]=255"
   ]
  },
  {
   "cell_type": "code",
   "execution_count": 1,
   "metadata": {},
   "outputs": [],
   "source": [
    "file=open(\"/usr/bin/ls\", \"rb\")"
   ]
  },
  {
   "cell_type": "code",
   "execution_count": 2,
   "metadata": {},
   "outputs": [],
   "source": [
    "data=bytearray(file.read(10))"
=======
   "execution_count": 42,
   "metadata": {},
   "outputs": [
    {
     "ename": "AttributeError",
     "evalue": "module 'os' has no attribute 'sysconf'",
     "output_type": "error",
     "traceback": [
      "\u001b[1;31m---------------------------------------------------------------------------\u001b[0m",
      "\u001b[1;31mAttributeError\u001b[0m                            Traceback (most recent call last)",
      "\u001b[1;32m<ipython-input-42-73e3a7a7dcb3>\u001b[0m in \u001b[0;36m<module>\u001b[1;34m\u001b[0m\n\u001b[1;32m----> 1\u001b[1;33m \u001b[0mmem_bytes\u001b[0m \u001b[1;33m=\u001b[0m \u001b[0mos\u001b[0m\u001b[1;33m.\u001b[0m\u001b[0msysconf\u001b[0m\u001b[1;33m(\u001b[0m\u001b[1;34m'SC_PAGE_SIZE'\u001b[0m\u001b[1;33m)\u001b[0m \u001b[1;33m*\u001b[0m \u001b[0mos\u001b[0m\u001b[1;33m.\u001b[0m\u001b[0msysconf\u001b[0m\u001b[1;33m(\u001b[0m\u001b[1;34m'SC_PHYS_PAGES'\u001b[0m\u001b[1;33m)\u001b[0m  \u001b[1;31m# e.g. 4015976448\u001b[0m\u001b[1;33m\u001b[0m\u001b[1;33m\u001b[0m\u001b[0m\n\u001b[0m\u001b[0;32m      2\u001b[0m \u001b[0mmem_gib\u001b[0m \u001b[1;33m=\u001b[0m \u001b[0mmem_bytes\u001b[0m\u001b[1;33m/\u001b[0m\u001b[1;33m(\u001b[0m\u001b[1;36m1024.\u001b[0m\u001b[1;33m**\u001b[0m\u001b[1;36m3\u001b[0m\u001b[1;33m)\u001b[0m  \u001b[1;31m# e.g. 3.74\u001b[0m\u001b[1;33m\u001b[0m\u001b[1;33m\u001b[0m\u001b[0m\n",
      "\u001b[1;31mAttributeError\u001b[0m: module 'os' has no attribute 'sysconf'"
     ]
    }
   ],
   "source": [
    "mem_bytes = os.sysconf('SC_PAGE_SIZE') * os.sysconf('SC_PHYS_PAGES')  # e.g. 4015976448\n",
    "mem_gib = mem_bytes/(1024.**3)  # e.g. 3.74\n"
>>>>>>> 2212996fcd79306adccac8ea00ff63e22deb3713
   ]
  },
  {
   "cell_type": "code",
<<<<<<< HEAD
   "execution_count": 3,
   "metadata": {},
   "outputs": [
    {
     "data": {
      "text/plain": [
       "bytearray(b'\\x7fELF\\x02\\x01\\x01\\x00\\x00\\x00')"
      ]
     },
     "execution_count": 3,
     "metadata": {},
     "output_type": "execute_result"
    }
   ],
   "source": [
    "data"
=======
   "execution_count": 44,
   "metadata": {},
   "outputs": [
    {
     "name": "stdout",
     "output_type": "stream",
     "text": [
      "0.0\n"
     ]
    }
   ],
   "source": [
    "process = os.popen('wmic memorychip get capacity')\n",
    "result = process.read()\n",
    "process.close()\n",
    "totalMem = 0\n",
    "for m in result.split(\"  \\r\\n\")[1:-1]:\n",
    "    totalMem += int(m)\n",
    "\n",
    "print (totalMem / (1024**3))"
>>>>>>> 2212996fcd79306adccac8ea00ff63e22deb3713
   ]
  },
  {
   "cell_type": "code",
<<<<<<< HEAD
   "execution_count": 4,
   "metadata": {},
   "outputs": [
    {
     "data": {
      "text/plain": [
       "10"
      ]
     },
     "execution_count": 4,
     "metadata": {},
     "output_type": "execute_result"
    }
   ],
   "source": [
    "    len(data)"
=======
   "execution_count": 45,
   "metadata": {},
   "outputs": [
    {
     "ename": "NameError",
     "evalue": "name 'a' is not defined",
     "output_type": "error",
     "traceback": [
      "\u001b[1;31m---------------------------------------------------------------------------\u001b[0m",
      "\u001b[1;31mNameError\u001b[0m                                 Traceback (most recent call last)",
      "\u001b[1;32m<ipython-input-45-9879d3b82d0a>\u001b[0m in \u001b[0;36m<module>\u001b[1;34m\u001b[0m\n\u001b[0;32m      1\u001b[0m \u001b[1;32mimport\u001b[0m \u001b[0mcollections\u001b[0m\u001b[1;33m\u001b[0m\u001b[1;33m\u001b[0m\u001b[0m\n\u001b[1;32m----> 2\u001b[1;33m \u001b[0mprint\u001b[0m\u001b[1;33m(\u001b[0m\u001b[1;33m[\u001b[0m\u001b[0mitem\u001b[0m \u001b[1;32mfor\u001b[0m \u001b[0mitem\u001b[0m\u001b[1;33m,\u001b[0m \u001b[0mcount\u001b[0m \u001b[1;32min\u001b[0m \u001b[0mcollections\u001b[0m\u001b[1;33m.\u001b[0m\u001b[0mCounter\u001b[0m\u001b[1;33m(\u001b[0m\u001b[0ma\u001b[0m\u001b[1;33m)\u001b[0m\u001b[1;33m.\u001b[0m\u001b[0mitems\u001b[0m\u001b[1;33m(\u001b[0m\u001b[1;33m)\u001b[0m \u001b[1;32mif\u001b[0m \u001b[0mcount\u001b[0m \u001b[1;33m>\u001b[0m \u001b[1;36m1\u001b[0m\u001b[1;33m]\u001b[0m\u001b[1;33m)\u001b[0m\u001b[1;33m\u001b[0m\u001b[1;33m\u001b[0m\u001b[0m\n\u001b[0m",
      "\u001b[1;31mNameError\u001b[0m: name 'a' is not defined"
     ]
    }
   ],
   "source": [
    "import collections\n",
    "print([item for item, count in collections.Counter(a).items() if count > 1])\n"
>>>>>>> 2212996fcd79306adccac8ea00ff63e22deb3713
   ]
  },
  {
   "cell_type": "code",
<<<<<<< HEAD
=======
=======
>>>>>>> e01bbad4cafbf4a9722c4910bcedda14e75bff55
>>>>>>> 2212996fcd79306adccac8ea00ff63e22deb3713
   "execution_count": null,
   "metadata": {},
   "outputs": [],
   "source": []
  }
 ],
 "metadata": {
  "kernelspec": {
   "display_name": "Python 3",
   "language": "python",
   "name": "python3"
  },
  "language_info": {
   "codemirror_mode": {
    "name": "ipython",
    "version": 3
   },
   "file_extension": ".py",
   "mimetype": "text/x-python",
   "name": "python",
   "nbconvert_exporter": "python",
   "pygments_lexer": "ipython3",
<<<<<<< HEAD
   "version": "3.8.5"
=======
<<<<<<< HEAD
   "version": "3.9.0"
=======
   "version": "3.8.5"
>>>>>>> e01bbad4cafbf4a9722c4910bcedda14e75bff55
>>>>>>> 2212996fcd79306adccac8ea00ff63e22deb3713
  }
 },
 "nbformat": 4,
 "nbformat_minor": 4
}
