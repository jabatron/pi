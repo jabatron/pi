{
 "cells": [
  {
   "cell_type": "code",
   "execution_count": 19,
   "metadata": {},
   "outputs": [],
   "source": [
    "def ascii_to_binary(cadena):\n",
    "    \"\"\" \n",
    "        Devuelve una lista de string de la conversión en binario de la cadena\n",
    "        ajustdo con ceros por la izquierda si tiene menos de longitud 8\n",
    "    \"\"\"\n",
    "    cadena_bin = [bin(ord(i))[2:] for i in cadena]\n",
    "    for i in range(len(cadena_bin)):\n",
    "        cadena_bin[i]='0'*(8-len(cadena_bin[i]))+cadena_bin[i]\n",
    "\n",
    "    cadena_sum =\"\"\n",
    "    \n",
    "    for s in cadena_bin:\n",
    "        cadena_sum+=s\n",
    "    \n",
    "    return cadena_sum"
   ]
  },
  {
   "cell_type": "code",
   "execution_count": 25,
   "metadata": {},
   "outputs": [],
   "source": [
    "a= ascii_to_binary(\"mara\")"
   ]
  },
  {
   "cell_type": "code",
   "execution_count": 26,
   "metadata": {},
   "outputs": [
    {
     "data": {
      "text/plain": [
       "'01101101011000010111001001100001'"
      ]
     },
     "execution_count": 26,
     "metadata": {},
     "output_type": "execute_result"
    }
   ],
   "source": [
    "a"
   ]
  },
  {
   "cell_type": "code",
   "execution_count": 27,
   "metadata": {},
   "outputs": [],
   "source": [
    "import re\n",
    "def binary_to_bin64(cadena_bin):\n",
    "    \"\"\" \n",
    "        Reorganizar la cadena binaria pasando de grupos de 8 a grupos de 6\n",
    "    \"\"\"\n",
    "    # Trocear la cadena en grupos de 6\n",
    "    lb=re.findall(\".{1,6}\", cadena_bin)\n",
    "    # Si el último grupo no tiene 6 digitos se rellena con \"0\"\n",
    "    lb[-1]=lb[-1]+\"0\"*(6-len(lb[-1]))\n",
    "\n",
    "    return lb"
   ]
  },
  {
   "cell_type": "code",
   "execution_count": 32,
   "metadata": {},
   "outputs": [],
   "source": [
    "cb=binary_to_bin64(a)"
   ]
  },
  {
   "cell_type": "code",
   "execution_count": 38,
   "metadata": {},
   "outputs": [],
   "source": [
    "import string\n",
    "chars64=string.ascii_uppercase+string.ascii_lowercase+string.digits+'+/'"
   ]
  },
  {
   "cell_type": "code",
   "execution_count": 29,
   "metadata": {},
   "outputs": [],
   "source": [
    "def bin64_to_hex64(cadena, cadena_bin):\n",
    "\n",
    "    for i in cadena_bin:\n",
    "        print (chars[int(i, 2)], end=\"\")\n",
    "    print('='*calculate_fill(cadena))"
   ]
  },
  {
   "cell_type": "code",
   "execution_count": 34,
   "metadata": {},
   "outputs": [],
   "source": [
    "def calculate_fill(cadena):\n",
    "    \"\"\" \n",
    "        Si la cadena no es multiplo de 3 se rellena con \"=\"\n",
    "        Devuelve la cantidad de \"=\" que se necesitan para completar la codificación\n",
    "    \"\"\"\n",
    "    return  (3-len(cadena)%3)%3"
   ]
  },
  {
   "cell_type": "code",
   "execution_count": 35,
   "metadata": {},
   "outputs": [
    {
     "name": "stdout",
     "output_type": "stream",
     "text": [
      "bWFyYQ==\n"
     ]
    }
   ],
   "source": [
    "bin64_to_hex64(\"mara\", cb)"
   ]
  },
  {
   "cell_type": "code",
   "execution_count": 39,
   "metadata": {},
   "outputs": [],
   "source": [
    "def bin64_to_hex64(cadena, cadena_bin):\n",
    "    \"\"\" \n",
    "        Convierte la cadena bin64 a la codificacion hex64. \n",
    "        Añade los correspondientes \"=\" si la cadena no es multiplo de 3 bytes\n",
    "    \"\"\"\n",
    "    cadena_hex64=\"\"\n",
    "    for i in cadena_bin:\n",
    "        cadena_hex64+=chars64[int(i, 2)]\n",
    "        \n",
    "    cadena_hex64+= ('='*calculate_fill(cadena))\n",
    "\n",
    "    return cadena_hex64"
   ]
  },
  {
   "cell_type": "code",
   "execution_count": 40,
   "metadata": {},
   "outputs": [
    {
     "data": {
      "text/plain": [
       "'bWFyYQ=='"
      ]
     },
     "execution_count": 40,
     "metadata": {},
     "output_type": "execute_result"
    }
   ],
   "source": [
    "bin64_to_hex64(\"mara\", cb)"
   ]
  },
  {
   "cell_type": "code",
   "execution_count": 2,
   "metadata": {},
   "outputs": [
    {
     "name": "stdout",
     "output_type": "stream",
     "text": [
      "Todo salió bien\n",
      "Es el momento de decir adiós\n",
      "0.5\n",
      "-----\n",
      "División fallida\n",
      "Es el momento de decir adiós\n",
      "None\n"
     ]
    }
   ],
   "source": [
    "def reciproco(n):\n",
    "    try:\n",
    "        n = 1 / n\n",
    "    except ZeroDivisionError:\n",
    "        print(\"División fallida\")\n",
    "        n = None\n",
    "    else:\n",
    "        print(\"Todo salió bien\")\n",
    "        return n\n",
    "    finally:\n",
    "        print(\"Es el momento de decir adiós\")\n",
    "        \n",
    "\n",
    "print(reciproco(2))\n",
    "print(\"-\"*5)\n",
    "print(reciproco(0))"
   ]
  },
  {
   "cell_type": "code",
   "execution_count": null,
   "metadata": {},
   "outputs": [],
   "source": []
  }
 ],
 "metadata": {
  "kernelspec": {
   "display_name": "Python 3",
   "language": "python",
   "name": "python3"
  },
  "language_info": {
   "codemirror_mode": {
    "name": "ipython",
    "version": 3
   },
   "file_extension": ".py",
   "mimetype": "text/x-python",
   "name": "python",
   "nbconvert_exporter": "python",
   "pygments_lexer": "ipython3",
   "version": "3.9.0"
  }
 },
 "nbformat": 4,
 "nbformat_minor": 4
}
